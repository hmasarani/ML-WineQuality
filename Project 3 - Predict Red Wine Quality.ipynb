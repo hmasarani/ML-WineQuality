{
 "cells": [
  {
   "cell_type": "markdown",
   "id": "5e402230",
   "metadata": {},
   "source": [
    "## Project - Applying Data Science Methodology on Red Wine Quality Dataset\n",
    "## Mohamad Masarani \n",
    "## Student #: 217303611\n",
    "## EECS 4404: Introduction to Machine Learning and Pattern Recognition\n",
    "### Project 3\n",
    "#### Credit to professor Archit Garg's lectures and Notebooks provided. \n",
    "<img src=\"https://media.giphy.com/media/jRuv9xc10lVyE/giphy.gif\">\n",
    "\n",
    "You can read more about the Data Science Methodology from this [IBM whitepaper](https://tdwi.org/~/media/64511A895D86457E964174EDC5C4C7B1.PDF) by John Rollins\n",
    "\n",
    "[Link](https://archive.ics.uci.edu/ml/datasets/wine+quality) for the dataset for context\n",
    "\n",
    "<img src=\"https://media-exp1.licdn.com/dms/image/C4D12AQGOPVf5iqhhwQ/article-inline_image-shrink_1000_1488/0/1597756152693?e=1652918400&v=beta&t=iKZ2jX3khsx11lD9JyZWDz-j-Gt2hZsKPXz5rZ0iE1M\">"
   ]
  },
  {
   "cell_type": "markdown",
   "id": "96fa59d2",
   "metadata": {
    "button": false,
    "new_sheet": false,
    "run_control": {
     "read_only": false
    }
   },
   "source": [
    "### Business Understanding\n",
    "\n",
    "The red wine industry shows a recent exponential growth as social drinking is on the rise. Nowadays, industry players are using product quality certifications to promote their products. This is a time-consuming process and requires the assessment given by human experts, which makes this process very expensive. Also, the price of red wine depends on a rather abstract concept of wine appreciation by wine tasters, opinion among whom may have a high degree of variability. Another vital factor in red wine certification and quality assessment is physicochemical tests, which are laboratory-based and consider factors like acidity, pH level, sugar, and other chemical properties. The red wine market would be of interest if the human quality of tasting can be related to wine’s chemical properties so that certification and quality assessment and assurance processes are more controlled. \n",
    "\n",
    "The goal is to implement Regression Models and Classification Models on the Red Wine Quality Dataset to determine which features are the best quality red wine indicators and generate insights into each of these factors to our model’s red wine quality."
   ]
  },
  {
   "cell_type": "markdown",
   "id": "ead99b54",
   "metadata": {},
   "source": [
    "### Analytic Approach\n",
    "Based on the above business understanding one should decide the analytical approach to follow. The approaches can be of 4 types: Descriptive approach (current status and information provided), Diagnostic approach(a.k.a statistical analysis, what is happening and why it is happening), Predictive approach(it forecasts on the trends or future events probability) and Prescriptive approach( how the problem should be solved actually).\n",
    "\n",
    "**Q1. What is the analytical approach that you would take for this project? Why do you think its the right approach?**\n",
    "\n",
    "Answer: Diagnostic Approach. I think this is the right approach as we need to perform statistical analysis to determine the weigh and effect of each feature of our dataset. Furthermore, knowing exactly what feature is contributing to the quality of wine is vital and determining why that feature is important would help producers and manufacturers make smarter, well-informed choices in order to increase the quality of their wine and yield better results. We will also use this approach to diagonose what features are related using statistical analysis and possibly interpret our data in a better way to generate informative insights. "
   ]
  },
  {
   "cell_type": "markdown",
   "id": "12766c3d",
   "metadata": {},
   "source": [
    "### Data Requirements\n",
    "\n",
    "**Q2. What kind of data do we require for predicting the red wine quality and for determining the features that are the best quality red wine indicators?**\n",
    "\n",
    "Answer: We'd require data that's sampled properly and doesn't contain large inconsistency. To be more specific, we need data that breaks down the ingredient in each sample obtained and how much each ingredient contributes to the overall composition of the sampled red wine. For instance, red wine contains citric acid. We need measurements of citric acid and other parts of the wine to determine which ingredient is a key/important feature and which is not/weak. The quality of the wine is also provided which will help us understand and analyze what makes a great red wine, great!\n",
    "\n"
   ]
  },
  {
   "cell_type": "markdown",
   "id": "5d59c819",
   "metadata": {},
   "source": [
    "### Data Collection\n",
    "\n",
    "**Q3. From where do we get our data?**\n",
    "\n",
    "Answer: Our red wine dataset is obtained and is available at the UCI machine learning archive (https://archive.ics.uci.edu/ml/datasets/wine+quality) and is supplied to us by Professor Archit Garg"
   ]
  },
  {
   "cell_type": "markdown",
   "id": "c8419dbc",
   "metadata": {},
   "source": [
    "### Data Understanding\n",
    "\n",
    "Link for the dataset https://archive.ics.uci.edu/ml/datasets/wine+quality for context\n",
    "\n",
    "**Q4. From where are red wine samples obtained?**\n",
    "\n",
    "Answer: According to Google, the red wine samples are obtained from the north of Portugal.\n",
    "\n",
    "**Q5. How can knowing the impact of each variable on the red wine quality help businesses(producers, distributors, etc) ?**\n",
    "\n",
    "Answer: knowing the impact of each variable can tremendously help producers etc. by providing them insights that will eventually help them better examine their production, distribution and overall business model. Furthermore, producers will be able to increase the quality of their wine by changing the the alcohol and other ingredient composition in their product to produce a better outcome and indirectly, a higher revenue. Hence, determining the impact of each variable is crucial and will surely drive greater results. \n",
    "\n",
    "*TODO*\n",
    "<li>Check the shape of data, and the datatypes of the features</li>: DONE, please refer to later parts of this notebook.\n",
    "<li>Understand the data by carrying out any steps that you think are necessary</li>: DONE, please refer to later parts of this notebook."
   ]
  },
  {
   "cell_type": "markdown",
   "id": "05546ed7",
   "metadata": {},
   "source": [
    "### Data Preparation\n",
    "\n",
    "#### Explore the dataset further\n",
    "*TODO*\n",
    "<li>Check for missing values and handle if any</li>: DONE\n",
    "<li>Check for outliers if any and handle them</li>: DONE\n",
    "<li>Implement Correlation heatmap</li>: DONE\n",
    "<li>Check the distribution of data using histograms</li>: DONE\n",
    "<li>Prepare the data for modeling by carrying out any steps that you think are necessary</li>: DONE"
   ]
  },
  {
   "cell_type": "markdown",
   "id": "4ec33f9c",
   "metadata": {},
   "source": [
    "We will start off by importing all of our dependencies/libraries such as pandas, numpy, sklearn models etc. "
   ]
  },
  {
   "cell_type": "code",
   "execution_count": 42,
   "id": "a750b6bc",
   "metadata": {},
   "outputs": [],
   "source": [
    "import warnings\n",
    "warnings.simplefilter(\"ignore\")\n",
    "import joblib\n",
    "\n",
    "import pandas as pd\n",
    "import numpy as np\n",
    "import seaborn as sns\n",
    "import matplotlib.pyplot as plt\n",
    "from sklearn import metrics\n",
    "%matplotlib inline\n",
    "\n",
    "from sklearn.preprocessing import StandardScaler\n",
    "from sklearn.model_selection import train_test_split\n",
    "from sklearn.linear_model import LogisticRegression\n",
    "from sklearn.svm import SVC\n",
    "from sklearn.tree import DecisionTreeClassifier\n",
    "from sklearn.ensemble import RandomForestClassifier\n",
    "from sklearn.neighbors import KNeighborsClassifier\n",
    "from sklearn.model_selection import cross_val_score\n",
    "from sklearn.model_selection import GridSearchCV \n",
    "from sklearn.metrics import classification_report\n",
    "from sklearn.metrics import accuracy_score"
   ]
  },
  {
   "cell_type": "markdown",
   "id": "f7ff82f2",
   "metadata": {},
   "source": [
    "Let's now go ahead and import/read our data and see what columns we will be dealing with"
   ]
  },
  {
   "cell_type": "code",
   "execution_count": 43,
   "id": "2ecf4dae",
   "metadata": {
    "scrolled": true
   },
   "outputs": [
    {
     "data": {
      "text/html": [
       "<div>\n",
       "<style scoped>\n",
       "    .dataframe tbody tr th:only-of-type {\n",
       "        vertical-align: middle;\n",
       "    }\n",
       "\n",
       "    .dataframe tbody tr th {\n",
       "        vertical-align: top;\n",
       "    }\n",
       "\n",
       "    .dataframe thead th {\n",
       "        text-align: right;\n",
       "    }\n",
       "</style>\n",
       "<table border=\"1\" class=\"dataframe\">\n",
       "  <thead>\n",
       "    <tr style=\"text-align: right;\">\n",
       "      <th></th>\n",
       "      <th>fixed acidity</th>\n",
       "      <th>volatile acidity</th>\n",
       "      <th>citric acid</th>\n",
       "      <th>residual sugar</th>\n",
       "      <th>chlorides</th>\n",
       "      <th>free sulfur dioxide</th>\n",
       "      <th>total sulfur dioxide</th>\n",
       "      <th>density</th>\n",
       "      <th>pH</th>\n",
       "      <th>sulphates</th>\n",
       "      <th>alcohol</th>\n",
       "      <th>quality</th>\n",
       "    </tr>\n",
       "  </thead>\n",
       "  <tbody>\n",
       "    <tr>\n",
       "      <th>0</th>\n",
       "      <td>7.4</td>\n",
       "      <td>0.70</td>\n",
       "      <td>0.00</td>\n",
       "      <td>1.9</td>\n",
       "      <td>0.076</td>\n",
       "      <td>11.0</td>\n",
       "      <td>34.0</td>\n",
       "      <td>0.9978</td>\n",
       "      <td>3.51</td>\n",
       "      <td>0.56</td>\n",
       "      <td>9.4</td>\n",
       "      <td>5</td>\n",
       "    </tr>\n",
       "    <tr>\n",
       "      <th>1</th>\n",
       "      <td>7.8</td>\n",
       "      <td>0.88</td>\n",
       "      <td>0.00</td>\n",
       "      <td>2.6</td>\n",
       "      <td>0.098</td>\n",
       "      <td>25.0</td>\n",
       "      <td>67.0</td>\n",
       "      <td>0.9968</td>\n",
       "      <td>3.20</td>\n",
       "      <td>0.68</td>\n",
       "      <td>9.8</td>\n",
       "      <td>5</td>\n",
       "    </tr>\n",
       "    <tr>\n",
       "      <th>2</th>\n",
       "      <td>7.8</td>\n",
       "      <td>0.76</td>\n",
       "      <td>0.04</td>\n",
       "      <td>2.3</td>\n",
       "      <td>0.092</td>\n",
       "      <td>15.0</td>\n",
       "      <td>54.0</td>\n",
       "      <td>0.9970</td>\n",
       "      <td>3.26</td>\n",
       "      <td>0.65</td>\n",
       "      <td>9.8</td>\n",
       "      <td>5</td>\n",
       "    </tr>\n",
       "    <tr>\n",
       "      <th>3</th>\n",
       "      <td>11.2</td>\n",
       "      <td>0.28</td>\n",
       "      <td>0.56</td>\n",
       "      <td>1.9</td>\n",
       "      <td>0.075</td>\n",
       "      <td>17.0</td>\n",
       "      <td>60.0</td>\n",
       "      <td>0.9980</td>\n",
       "      <td>3.16</td>\n",
       "      <td>0.58</td>\n",
       "      <td>9.8</td>\n",
       "      <td>6</td>\n",
       "    </tr>\n",
       "    <tr>\n",
       "      <th>4</th>\n",
       "      <td>7.4</td>\n",
       "      <td>0.70</td>\n",
       "      <td>0.00</td>\n",
       "      <td>1.9</td>\n",
       "      <td>0.076</td>\n",
       "      <td>11.0</td>\n",
       "      <td>34.0</td>\n",
       "      <td>0.9978</td>\n",
       "      <td>3.51</td>\n",
       "      <td>0.56</td>\n",
       "      <td>9.4</td>\n",
       "      <td>5</td>\n",
       "    </tr>\n",
       "  </tbody>\n",
       "</table>\n",
       "</div>"
      ],
      "text/plain": [
       "   fixed acidity  volatile acidity  citric acid  residual sugar  chlorides  \\\n",
       "0            7.4              0.70         0.00             1.9      0.076   \n",
       "1            7.8              0.88         0.00             2.6      0.098   \n",
       "2            7.8              0.76         0.04             2.3      0.092   \n",
       "3           11.2              0.28         0.56             1.9      0.075   \n",
       "4            7.4              0.70         0.00             1.9      0.076   \n",
       "\n",
       "   free sulfur dioxide  total sulfur dioxide  density    pH  sulphates  \\\n",
       "0                 11.0                  34.0   0.9978  3.51       0.56   \n",
       "1                 25.0                  67.0   0.9968  3.20       0.68   \n",
       "2                 15.0                  54.0   0.9970  3.26       0.65   \n",
       "3                 17.0                  60.0   0.9980  3.16       0.58   \n",
       "4                 11.0                  34.0   0.9978  3.51       0.56   \n",
       "\n",
       "   alcohol  quality  \n",
       "0      9.4        5  \n",
       "1      9.8        5  \n",
       "2      9.8        5  \n",
       "3      9.8        6  \n",
       "4      9.4        5  "
      ]
     },
     "execution_count": 43,
     "metadata": {},
     "output_type": "execute_result"
    }
   ],
   "source": [
    "dataset = pd.read_csv(\"winequality-red.csv\")\n",
    "dataset.head(5)"
   ]
  },
  {
   "cell_type": "markdown",
   "id": "8952072d",
   "metadata": {},
   "source": [
    "As required, let's check out the shape of our dataset to understand how many rows and columns we have: "
   ]
  },
  {
   "cell_type": "code",
   "execution_count": 44,
   "id": "c6a283a4",
   "metadata": {
    "scrolled": true
   },
   "outputs": [
    {
     "data": {
      "text/plain": [
       "(1599, 12)"
      ]
     },
     "execution_count": 44,
     "metadata": {},
     "output_type": "execute_result"
    }
   ],
   "source": [
    "dataset.shape"
   ]
  },
  {
   "cell_type": "markdown",
   "id": "cd2074b4",
   "metadata": {},
   "source": [
    "As we can see from the results above, it seems like we have 12 columns and 1599 entries(rows).\n",
    "Now, let's call info() function to see if there exists any null values we need to deal with:"
   ]
  },
  {
   "cell_type": "code",
   "execution_count": 45,
   "id": "b39314c4",
   "metadata": {
    "scrolled": false
   },
   "outputs": [
    {
     "name": "stdout",
     "output_type": "stream",
     "text": [
      "<class 'pandas.core.frame.DataFrame'>\n",
      "RangeIndex: 1599 entries, 0 to 1598\n",
      "Data columns (total 12 columns):\n",
      " #   Column                Non-Null Count  Dtype  \n",
      "---  ------                --------------  -----  \n",
      " 0   fixed acidity         1599 non-null   float64\n",
      " 1   volatile acidity      1599 non-null   float64\n",
      " 2   citric acid           1599 non-null   float64\n",
      " 3   residual sugar        1599 non-null   float64\n",
      " 4   chlorides             1599 non-null   float64\n",
      " 5   free sulfur dioxide   1599 non-null   float64\n",
      " 6   total sulfur dioxide  1599 non-null   float64\n",
      " 7   density               1599 non-null   float64\n",
      " 8   pH                    1599 non-null   float64\n",
      " 9   sulphates             1599 non-null   float64\n",
      " 10  alcohol               1599 non-null   float64\n",
      " 11  quality               1599 non-null   int64  \n",
      "dtypes: float64(11), int64(1)\n",
      "memory usage: 150.0 KB\n"
     ]
    }
   ],
   "source": [
    "dataset.info()"
   ]
  },
  {
   "cell_type": "code",
   "execution_count": 46,
   "id": "f9f6fc12",
   "metadata": {},
   "outputs": [
    {
     "data": {
      "text/plain": [
       "fixed acidity           0\n",
       "volatile acidity        0\n",
       "citric acid             0\n",
       "residual sugar          0\n",
       "chlorides               0\n",
       "free sulfur dioxide     0\n",
       "total sulfur dioxide    0\n",
       "density                 0\n",
       "pH                      0\n",
       "sulphates               0\n",
       "alcohol                 0\n",
       "quality                 0\n",
       "dtype: int64"
      ]
     },
     "execution_count": 46,
     "metadata": {},
     "output_type": "execute_result"
    }
   ],
   "source": [
    "dataset.isnull().sum()"
   ]
  },
  {
   "cell_type": "markdown",
   "id": "29eb466c",
   "metadata": {},
   "source": [
    "To further understand our data and identify how the data is distributed, let's call describe() and see metrics such as the mean, deviation, maximum. This will help us understand if we need to scale our data and identify outliers. One quick and brilliant way to identify outliers is to look at the difference between the percentiles such as 75% and compare it with others to see how far they are. "
   ]
  },
  {
   "cell_type": "code",
   "execution_count": 47,
   "id": "4c1d981f",
   "metadata": {
    "scrolled": true
   },
   "outputs": [
    {
     "data": {
      "text/html": [
       "<div>\n",
       "<style scoped>\n",
       "    .dataframe tbody tr th:only-of-type {\n",
       "        vertical-align: middle;\n",
       "    }\n",
       "\n",
       "    .dataframe tbody tr th {\n",
       "        vertical-align: top;\n",
       "    }\n",
       "\n",
       "    .dataframe thead th {\n",
       "        text-align: right;\n",
       "    }\n",
       "</style>\n",
       "<table border=\"1\" class=\"dataframe\">\n",
       "  <thead>\n",
       "    <tr style=\"text-align: right;\">\n",
       "      <th></th>\n",
       "      <th>fixed acidity</th>\n",
       "      <th>volatile acidity</th>\n",
       "      <th>citric acid</th>\n",
       "      <th>residual sugar</th>\n",
       "      <th>chlorides</th>\n",
       "      <th>free sulfur dioxide</th>\n",
       "      <th>total sulfur dioxide</th>\n",
       "      <th>density</th>\n",
       "      <th>pH</th>\n",
       "      <th>sulphates</th>\n",
       "      <th>alcohol</th>\n",
       "      <th>quality</th>\n",
       "    </tr>\n",
       "  </thead>\n",
       "  <tbody>\n",
       "    <tr>\n",
       "      <th>count</th>\n",
       "      <td>1599.000000</td>\n",
       "      <td>1599.000000</td>\n",
       "      <td>1599.000000</td>\n",
       "      <td>1599.000000</td>\n",
       "      <td>1599.000000</td>\n",
       "      <td>1599.000000</td>\n",
       "      <td>1599.000000</td>\n",
       "      <td>1599.000000</td>\n",
       "      <td>1599.000000</td>\n",
       "      <td>1599.000000</td>\n",
       "      <td>1599.000000</td>\n",
       "      <td>1599.000000</td>\n",
       "    </tr>\n",
       "    <tr>\n",
       "      <th>mean</th>\n",
       "      <td>8.319637</td>\n",
       "      <td>0.527821</td>\n",
       "      <td>0.270976</td>\n",
       "      <td>2.538806</td>\n",
       "      <td>0.087467</td>\n",
       "      <td>15.874922</td>\n",
       "      <td>46.467792</td>\n",
       "      <td>0.996747</td>\n",
       "      <td>3.311113</td>\n",
       "      <td>0.658149</td>\n",
       "      <td>10.422983</td>\n",
       "      <td>5.636023</td>\n",
       "    </tr>\n",
       "    <tr>\n",
       "      <th>std</th>\n",
       "      <td>1.741096</td>\n",
       "      <td>0.179060</td>\n",
       "      <td>0.194801</td>\n",
       "      <td>1.409928</td>\n",
       "      <td>0.047065</td>\n",
       "      <td>10.460157</td>\n",
       "      <td>32.895324</td>\n",
       "      <td>0.001887</td>\n",
       "      <td>0.154386</td>\n",
       "      <td>0.169507</td>\n",
       "      <td>1.065668</td>\n",
       "      <td>0.807569</td>\n",
       "    </tr>\n",
       "    <tr>\n",
       "      <th>min</th>\n",
       "      <td>4.600000</td>\n",
       "      <td>0.120000</td>\n",
       "      <td>0.000000</td>\n",
       "      <td>0.900000</td>\n",
       "      <td>0.012000</td>\n",
       "      <td>1.000000</td>\n",
       "      <td>6.000000</td>\n",
       "      <td>0.990070</td>\n",
       "      <td>2.740000</td>\n",
       "      <td>0.330000</td>\n",
       "      <td>8.400000</td>\n",
       "      <td>3.000000</td>\n",
       "    </tr>\n",
       "    <tr>\n",
       "      <th>25%</th>\n",
       "      <td>7.100000</td>\n",
       "      <td>0.390000</td>\n",
       "      <td>0.090000</td>\n",
       "      <td>1.900000</td>\n",
       "      <td>0.070000</td>\n",
       "      <td>7.000000</td>\n",
       "      <td>22.000000</td>\n",
       "      <td>0.995600</td>\n",
       "      <td>3.210000</td>\n",
       "      <td>0.550000</td>\n",
       "      <td>9.500000</td>\n",
       "      <td>5.000000</td>\n",
       "    </tr>\n",
       "    <tr>\n",
       "      <th>50%</th>\n",
       "      <td>7.900000</td>\n",
       "      <td>0.520000</td>\n",
       "      <td>0.260000</td>\n",
       "      <td>2.200000</td>\n",
       "      <td>0.079000</td>\n",
       "      <td>14.000000</td>\n",
       "      <td>38.000000</td>\n",
       "      <td>0.996750</td>\n",
       "      <td>3.310000</td>\n",
       "      <td>0.620000</td>\n",
       "      <td>10.200000</td>\n",
       "      <td>6.000000</td>\n",
       "    </tr>\n",
       "    <tr>\n",
       "      <th>75%</th>\n",
       "      <td>9.200000</td>\n",
       "      <td>0.640000</td>\n",
       "      <td>0.420000</td>\n",
       "      <td>2.600000</td>\n",
       "      <td>0.090000</td>\n",
       "      <td>21.000000</td>\n",
       "      <td>62.000000</td>\n",
       "      <td>0.997835</td>\n",
       "      <td>3.400000</td>\n",
       "      <td>0.730000</td>\n",
       "      <td>11.100000</td>\n",
       "      <td>6.000000</td>\n",
       "    </tr>\n",
       "    <tr>\n",
       "      <th>max</th>\n",
       "      <td>15.900000</td>\n",
       "      <td>1.580000</td>\n",
       "      <td>1.000000</td>\n",
       "      <td>15.500000</td>\n",
       "      <td>0.611000</td>\n",
       "      <td>72.000000</td>\n",
       "      <td>289.000000</td>\n",
       "      <td>1.003690</td>\n",
       "      <td>4.010000</td>\n",
       "      <td>2.000000</td>\n",
       "      <td>14.900000</td>\n",
       "      <td>8.000000</td>\n",
       "    </tr>\n",
       "  </tbody>\n",
       "</table>\n",
       "</div>"
      ],
      "text/plain": [
       "       fixed acidity  volatile acidity  citric acid  residual sugar  \\\n",
       "count    1599.000000       1599.000000  1599.000000     1599.000000   \n",
       "mean        8.319637          0.527821     0.270976        2.538806   \n",
       "std         1.741096          0.179060     0.194801        1.409928   \n",
       "min         4.600000          0.120000     0.000000        0.900000   \n",
       "25%         7.100000          0.390000     0.090000        1.900000   \n",
       "50%         7.900000          0.520000     0.260000        2.200000   \n",
       "75%         9.200000          0.640000     0.420000        2.600000   \n",
       "max        15.900000          1.580000     1.000000       15.500000   \n",
       "\n",
       "         chlorides  free sulfur dioxide  total sulfur dioxide      density  \\\n",
       "count  1599.000000          1599.000000           1599.000000  1599.000000   \n",
       "mean      0.087467            15.874922             46.467792     0.996747   \n",
       "std       0.047065            10.460157             32.895324     0.001887   \n",
       "min       0.012000             1.000000              6.000000     0.990070   \n",
       "25%       0.070000             7.000000             22.000000     0.995600   \n",
       "50%       0.079000            14.000000             38.000000     0.996750   \n",
       "75%       0.090000            21.000000             62.000000     0.997835   \n",
       "max       0.611000            72.000000            289.000000     1.003690   \n",
       "\n",
       "                pH    sulphates      alcohol      quality  \n",
       "count  1599.000000  1599.000000  1599.000000  1599.000000  \n",
       "mean      3.311113     0.658149    10.422983     5.636023  \n",
       "std       0.154386     0.169507     1.065668     0.807569  \n",
       "min       2.740000     0.330000     8.400000     3.000000  \n",
       "25%       3.210000     0.550000     9.500000     5.000000  \n",
       "50%       3.310000     0.620000    10.200000     6.000000  \n",
       "75%       3.400000     0.730000    11.100000     6.000000  \n",
       "max       4.010000     2.000000    14.900000     8.000000  "
      ]
     },
     "execution_count": 47,
     "metadata": {},
     "output_type": "execute_result"
    }
   ],
   "source": [
    "dataset.describe()"
   ]
  },
  {
   "cell_type": "markdown",
   "id": "82da6cbb",
   "metadata": {},
   "source": [
    "After analyzing the data using describe(), I was able to spot and figure out if we have any outliers. \n",
    "I came to a realization that there exists a great difference between 75% and max in the column residual sugar, 2.6 and 15.5, respectively. \n",
    "In addition, the same thing applies for both free sulfur dioxide and total sulfur dioxide columns, accordingly. \n"
   ]
  },
  {
   "cell_type": "markdown",
   "id": "14e160e8",
   "metadata": {},
   "source": [
    "Hence, I'd like to analyze the skewness of the data using the function from pandas library skew(). \n",
    "Note that skewness is an indicator of the asymmetry of a random variable's probability density about its mean."
   ]
  },
  {
   "cell_type": "code",
   "execution_count": 48,
   "id": "a370624e",
   "metadata": {
    "scrolled": true
   },
   "outputs": [
    {
     "data": {
      "text/plain": [
       "fixed acidity           0.982751\n",
       "volatile acidity        0.671593\n",
       "citric acid             0.318337\n",
       "residual sugar          4.540655\n",
       "chlorides               5.680347\n",
       "free sulfur dioxide     1.250567\n",
       "total sulfur dioxide    1.515531\n",
       "density                 0.071288\n",
       "pH                      0.193683\n",
       "sulphates               2.428672\n",
       "alcohol                 0.860829\n",
       "quality                 0.217802\n",
       "dtype: float64"
      ]
     },
     "execution_count": 48,
     "metadata": {},
     "output_type": "execute_result"
    }
   ],
   "source": [
    "dataset.skew()"
   ]
  },
  {
   "cell_type": "markdown",
   "id": "21a210ee",
   "metadata": {},
   "source": [
    "Let's go ahead and plot residual sugar, free sulfur dioxide, and total sulfur dioxide"
   ]
  },
  {
   "cell_type": "code",
   "execution_count": 49,
   "id": "ec1cf8eb",
   "metadata": {
    "scrolled": true
   },
   "outputs": [
    {
     "data": {
      "text/plain": [
       "<AxesSubplot:xlabel='residual sugar'>"
      ]
     },
     "execution_count": 49,
     "metadata": {},
     "output_type": "execute_result"
    },
    {
     "data": {
      "image/png": "[encoded data removed]",
      "text/plain": [
       "<Figure size 432x288 with 1 Axes>"
      ]
     },
     "metadata": {
      "needs_background": "light"
     },
     "output_type": "display_data"
    }
   ],
   "source": [
    "sns.boxplot(x=dataset['residual sugar'])"
   ]
  },
  {
   "cell_type": "code",
   "execution_count": 50,
   "id": "dce304a2",
   "metadata": {},
   "outputs": [
    {
     "data": {
      "text/plain": [
       "<AxesSubplot:xlabel='free sulfur dioxide'>"
      ]
     },
     "execution_count": 50,
     "metadata": {},
     "output_type": "execute_result"
    },
    {
     "data": {
      "image/png": "[encoded data removed]",
      "text/plain": [
       "<Figure size 432x288 with 1 Axes>"
      ]
     },
     "metadata": {
      "needs_background": "light"
     },
     "output_type": "display_data"
    }
   ],
   "source": [
    "sns.boxplot(x=dataset['free sulfur dioxide'])"
   ]
  },
  {
   "cell_type": "code",
   "execution_count": 51,
   "id": "4cf6a96b",
   "metadata": {
    "scrolled": true
   },
   "outputs": [
    {
     "data": {
      "text/plain": [
       "<AxesSubplot:xlabel='total sulfur dioxide'>"
      ]
     },
     "execution_count": 51,
     "metadata": {},
     "output_type": "execute_result"
    },
    {
     "data": {
      "image/png": "[encoded data removed]",
      "text/plain": [
       "<Figure size 432x288 with 1 Axes>"
      ]
     },
     "metadata": {
      "needs_background": "light"
     },
     "output_type": "display_data"
    }
   ],
   "source": [
    "sns.boxplot(x=dataset['total sulfur dioxide'])"
   ]
  },
  {
   "cell_type": "markdown",
   "id": "bf8df4f2",
   "metadata": {},
   "source": [
    "As we can see from above, there exists a few outliers in each of the features outlined above. Hence, we need to find to go a head and deal with those outliers in attempt to standardize our data and make it as neat as possible"
   ]
  },
  {
   "cell_type": "markdown",
   "id": "baf81e79",
   "metadata": {},
   "source": [
    "In the code below, I will be plotting a boxplot for each feature in the same plot and replacing the outliers with the mean, accordingly. I believe this is a smarter choice in order to stay consistent"
   ]
  },
  {
   "cell_type": "code",
   "execution_count": 52,
   "id": "2dca3db3",
   "metadata": {},
   "outputs": [
    {
     "data": {
      "text/plain": [
       "<AxesSubplot:>"
      ]
     },
     "execution_count": 52,
     "metadata": {},
     "output_type": "execute_result"
    },
    {
     "data": {
      "image/png": "[encoded data removed]",
      "text/plain": [
       "<Figure size 1080x576 with 1 Axes>"
      ]
     },
     "metadata": {
      "needs_background": "light"
     },
     "output_type": "display_data"
    }
   ],
   "source": [
    "fig = plt.figure(figsize = (15,8))\n",
    "thresh = 3\n",
    "f1 = [\"fixed acidity\", \"volatile acidity\", \"citric acid\", \"residual sugar\", \"chlorides\",\"free sulfur dioxide\", \"total sulfur dioxide\", \"density\",\"pH\",\"sulphates\", \"alcohol\"]\n",
    "for f in f1:\n",
    "    mean = np.mean(dataset[f])\n",
    "    std = np.std(dataset[f]) \n",
    "    for x in dataset[f]:\n",
    "        z = (x-mean)/std\n",
    "        if z > thresh:\n",
    "            dataset[f] = dataset[f].replace(x,mean)\n",
    "        \n",
    "out = dataset.drop('quality', axis=1)\n",
    "out.boxplot(grid=False)"
   ]
  },
  {
   "cell_type": "code",
   "execution_count": 53,
   "id": "10b9a63d",
   "metadata": {
    "scrolled": true
   },
   "outputs": [
    {
     "data": {
      "text/html": [
       "<div>\n",
       "<style scoped>\n",
       "    .dataframe tbody tr th:only-of-type {\n",
       "        vertical-align: middle;\n",
       "    }\n",
       "\n",
       "    .dataframe tbody tr th {\n",
       "        vertical-align: top;\n",
       "    }\n",
       "\n",
       "    .dataframe thead th {\n",
       "        text-align: right;\n",
       "    }\n",
       "</style>\n",
       "<table border=\"1\" class=\"dataframe\">\n",
       "  <thead>\n",
       "    <tr style=\"text-align: right;\">\n",
       "      <th></th>\n",
       "      <th>fixed acidity</th>\n",
       "      <th>volatile acidity</th>\n",
       "      <th>citric acid</th>\n",
       "      <th>residual sugar</th>\n",
       "      <th>chlorides</th>\n",
       "      <th>free sulfur dioxide</th>\n",
       "      <th>total sulfur dioxide</th>\n",
       "      <th>density</th>\n",
       "      <th>pH</th>\n",
       "      <th>sulphates</th>\n",
       "      <th>alcohol</th>\n",
       "      <th>quality</th>\n",
       "    </tr>\n",
       "  </thead>\n",
       "  <tbody>\n",
       "    <tr>\n",
       "      <th>count</th>\n",
       "      <td>1599.000000</td>\n",
       "      <td>1599.000000</td>\n",
       "      <td>1599.000000</td>\n",
       "      <td>1599.000000</td>\n",
       "      <td>1599.000000</td>\n",
       "      <td>1599.000000</td>\n",
       "      <td>1599.000000</td>\n",
       "      <td>1599.000000</td>\n",
       "      <td>1599.000000</td>\n",
       "      <td>1599.000000</td>\n",
       "      <td>1599.000000</td>\n",
       "      <td>1599.000000</td>\n",
       "    </tr>\n",
       "    <tr>\n",
       "      <th>mean</th>\n",
       "      <td>8.271004</td>\n",
       "      <td>0.523460</td>\n",
       "      <td>0.270520</td>\n",
       "      <td>2.398633</td>\n",
       "      <td>0.082099</td>\n",
       "      <td>15.342869</td>\n",
       "      <td>45.315208</td>\n",
       "      <td>0.996704</td>\n",
       "      <td>3.308579</td>\n",
       "      <td>0.645528</td>\n",
       "      <td>10.404524</td>\n",
       "      <td>5.636023</td>\n",
       "    </tr>\n",
       "    <tr>\n",
       "      <th>std</th>\n",
       "      <td>1.645835</td>\n",
       "      <td>0.169903</td>\n",
       "      <td>0.193945</td>\n",
       "      <td>0.880654</td>\n",
       "      <td>0.022769</td>\n",
       "      <td>9.373486</td>\n",
       "      <td>30.331264</td>\n",
       "      <td>0.001814</td>\n",
       "      <td>0.149421</td>\n",
       "      <td>0.133713</td>\n",
       "      <td>1.032819</td>\n",
       "      <td>0.807569</td>\n",
       "    </tr>\n",
       "    <tr>\n",
       "      <th>min</th>\n",
       "      <td>4.600000</td>\n",
       "      <td>0.120000</td>\n",
       "      <td>0.000000</td>\n",
       "      <td>0.900000</td>\n",
       "      <td>0.012000</td>\n",
       "      <td>1.000000</td>\n",
       "      <td>6.000000</td>\n",
       "      <td>0.990070</td>\n",
       "      <td>2.740000</td>\n",
       "      <td>0.330000</td>\n",
       "      <td>8.400000</td>\n",
       "      <td>3.000000</td>\n",
       "    </tr>\n",
       "    <tr>\n",
       "      <th>25%</th>\n",
       "      <td>7.100000</td>\n",
       "      <td>0.390000</td>\n",
       "      <td>0.090000</td>\n",
       "      <td>1.900000</td>\n",
       "      <td>0.070000</td>\n",
       "      <td>7.000000</td>\n",
       "      <td>22.000000</td>\n",
       "      <td>0.995600</td>\n",
       "      <td>3.210000</td>\n",
       "      <td>0.550000</td>\n",
       "      <td>9.500000</td>\n",
       "      <td>5.000000</td>\n",
       "    </tr>\n",
       "    <tr>\n",
       "      <th>50%</th>\n",
       "      <td>7.900000</td>\n",
       "      <td>0.520000</td>\n",
       "      <td>0.260000</td>\n",
       "      <td>2.200000</td>\n",
       "      <td>0.079000</td>\n",
       "      <td>14.000000</td>\n",
       "      <td>38.000000</td>\n",
       "      <td>0.996747</td>\n",
       "      <td>3.310000</td>\n",
       "      <td>0.620000</td>\n",
       "      <td>10.200000</td>\n",
       "      <td>6.000000</td>\n",
       "    </tr>\n",
       "    <tr>\n",
       "      <th>75%</th>\n",
       "      <td>9.150000</td>\n",
       "      <td>0.635000</td>\n",
       "      <td>0.420000</td>\n",
       "      <td>2.600000</td>\n",
       "      <td>0.089000</td>\n",
       "      <td>21.000000</td>\n",
       "      <td>61.000000</td>\n",
       "      <td>0.997800</td>\n",
       "      <td>3.400000</td>\n",
       "      <td>0.720000</td>\n",
       "      <td>11.033333</td>\n",
       "      <td>6.000000</td>\n",
       "    </tr>\n",
       "    <tr>\n",
       "      <th>max</th>\n",
       "      <td>13.500000</td>\n",
       "      <td>1.040000</td>\n",
       "      <td>0.790000</td>\n",
       "      <td>6.700000</td>\n",
       "      <td>0.226000</td>\n",
       "      <td>47.000000</td>\n",
       "      <td>145.000000</td>\n",
       "      <td>1.002200</td>\n",
       "      <td>3.750000</td>\n",
       "      <td>1.160000</td>\n",
       "      <td>13.600000</td>\n",
       "      <td>8.000000</td>\n",
       "    </tr>\n",
       "  </tbody>\n",
       "</table>\n",
       "</div>"
      ],
      "text/plain": [
       "       fixed acidity  volatile acidity  citric acid  residual sugar  \\\n",
       "count    1599.000000       1599.000000  1599.000000     1599.000000   \n",
       "mean        8.271004          0.523460     0.270520        2.398633   \n",
       "std         1.645835          0.169903     0.193945        0.880654   \n",
       "min         4.600000          0.120000     0.000000        0.900000   \n",
       "25%         7.100000          0.390000     0.090000        1.900000   \n",
       "50%         7.900000          0.520000     0.260000        2.200000   \n",
       "75%         9.150000          0.635000     0.420000        2.600000   \n",
       "max        13.500000          1.040000     0.790000        6.700000   \n",
       "\n",
       "         chlorides  free sulfur dioxide  total sulfur dioxide      density  \\\n",
       "count  1599.000000          1599.000000           1599.000000  1599.000000   \n",
       "mean      0.082099            15.342869             45.315208     0.996704   \n",
       "std       0.022769             9.373486             30.331264     0.001814   \n",
       "min       0.012000             1.000000              6.000000     0.990070   \n",
       "25%       0.070000             7.000000             22.000000     0.995600   \n",
       "50%       0.079000            14.000000             38.000000     0.996747   \n",
       "75%       0.089000            21.000000             61.000000     0.997800   \n",
       "max       0.226000            47.000000            145.000000     1.002200   \n",
       "\n",
       "                pH    sulphates      alcohol      quality  \n",
       "count  1599.000000  1599.000000  1599.000000  1599.000000  \n",
       "mean      3.308579     0.645528    10.404524     5.636023  \n",
       "std       0.149421     0.133713     1.032819     0.807569  \n",
       "min       2.740000     0.330000     8.400000     3.000000  \n",
       "25%       3.210000     0.550000     9.500000     5.000000  \n",
       "50%       3.310000     0.620000    10.200000     6.000000  \n",
       "75%       3.400000     0.720000    11.033333     6.000000  \n",
       "max       3.750000     1.160000    13.600000     8.000000  "
      ]
     },
     "execution_count": 53,
     "metadata": {},
     "output_type": "execute_result"
    }
   ],
   "source": [
    "dataset.describe()"
   ]
  },
  {
   "cell_type": "markdown",
   "id": "ec8ea8dc",
   "metadata": {},
   "source": [
    "As you can see from above, we've successfully replaced the outliers with means and now have data that's much more consistent that before. For instance the difference between 75% and max in residual sugar was was higher with outliers compared to now. "
   ]
  },
  {
   "cell_type": "markdown",
   "id": "71afbd7f",
   "metadata": {},
   "source": [
    "### Implementing a correlation heatmap"
   ]
  },
  {
   "cell_type": "code",
   "execution_count": 54,
   "id": "ecee2ae6",
   "metadata": {},
   "outputs": [
    {
     "data": {
      "image/png": "[encoded data removed]",
      "text/plain": [
       "<Figure size 432x288 with 2 Axes>"
      ]
     },
     "metadata": {
      "needs_background": "light"
     },
     "output_type": "display_data"
    }
   ],
   "source": [
    "# A sample heatmap implementation for reference: \n",
    "sns.heatmap(dataset.corr());"
   ]
  },
  {
   "cell_type": "markdown",
   "id": "537b8ce9",
   "metadata": {},
   "source": [
    "#### The figure below is a sophisticated heatmap that outlines yet illustrates the relationship between our features"
   ]
  },
  {
   "cell_type": "code",
   "execution_count": 55,
   "id": "916eaf91",
   "metadata": {
    "scrolled": false
   },
   "outputs": [
    {
     "data": {
      "image/png": "[encoded data removed]",
      "text/plain": [
       "<Figure size 864x720 with 2 Axes>"
      ]
     },
     "metadata": {
      "needs_background": "light"
     },
     "output_type": "display_data"
    }
   ],
   "source": [
    "# tril returns a copy of an array with elements above the k-th diagonal zeroed. For arrays with ndim exceeding 2, tril will apply to the final two axes.\n",
    "# https://numpy.org/doc/stable/reference/generated/numpy.tril.html\n",
    "ButtonleftTri = np.tril(dataset.corr())\n",
    "plt.figure(figsize=(12,10))\n",
    "sns.heatmap(dataset.corr(), vmax=1, vmin=-1, square=True, annot=True, fmt='0.4f', \n",
    "            annot_kws={'size':10}, mask=ButtonleftTri, cmap=\"YlGnBu\")\n",
    "plt.xticks(fontsize=11)\n",
    "plt.yticks(fontsize=11)\n",
    "plt.show()"
   ]
  },
  {
   "cell_type": "markdown",
   "id": "4d55eb2f",
   "metadata": {},
   "source": [
    "From the heatmap implemented above, we can see the correlation between our column i.e. variables. I've set the boundaries for vmax and vmin to 1 and -1, respectively, in order to visualize how strong of a relationship a pair of variables have. Please note that a correlation of zero or close to zero indicates or point to no correlation. \n",
    "Since quality is our target, to illustrate, we can see that the square that intersects quality and residual sugar is close to zero. This might be an indicator that residual sugar has very little to no correlation with the wine quality (hypothesis). \n",
    "Moreoever, we can observe that quality has the highest positive correlation with alcohol and the highest negative correlation with volatile acidity. \n",
    "Finally, I'd like to make a final observation from this heatmap. By looking at the darker correlation squares, we can see that free sulfur dioxide and total sulfur dioxide have a correlation coeficient of 0.6408, which is high and close to vmax=1. This might be an indicator that we can drop one of them and combine them together since they're highly correlated. Same concept applies for fixed acidity and citric acid. But until know, we're just exploring our options. "
   ]
  },
  {
   "cell_type": "markdown",
   "id": "8f527514",
   "metadata": {},
   "source": [
    "As per my hypothesis, I'm going to go ahead and drop the free sulfur dioxide column and retaining the total sulfur dioxide as I feel like they do point to the same thing.\n",
    "Our aim is to make out data simple, but not too simple. If dropping this column induces future issues, I will be reconsidering this. However, let's carry on!"
   ]
  },
  {
   "cell_type": "code",
   "execution_count": 56,
   "id": "5265499a",
   "metadata": {},
   "outputs": [],
   "source": [
    "dataset = dataset.drop('free sulfur dioxide', axis=1)"
   ]
  },
  {
   "cell_type": "code",
   "execution_count": 57,
   "id": "4191d938",
   "metadata": {},
   "outputs": [
    {
     "data": {
      "text/html": [
       "<div>\n",
       "<style scoped>\n",
       "    .dataframe tbody tr th:only-of-type {\n",
       "        vertical-align: middle;\n",
       "    }\n",
       "\n",
       "    .dataframe tbody tr th {\n",
       "        vertical-align: top;\n",
       "    }\n",
       "\n",
       "    .dataframe thead th {\n",
       "        text-align: right;\n",
       "    }\n",
       "</style>\n",
       "<table border=\"1\" class=\"dataframe\">\n",
       "  <thead>\n",
       "    <tr style=\"text-align: right;\">\n",
       "      <th></th>\n",
       "      <th>fixed acidity</th>\n",
       "      <th>volatile acidity</th>\n",
       "      <th>citric acid</th>\n",
       "      <th>residual sugar</th>\n",
       "      <th>chlorides</th>\n",
       "      <th>total sulfur dioxide</th>\n",
       "      <th>density</th>\n",
       "      <th>pH</th>\n",
       "      <th>sulphates</th>\n",
       "      <th>alcohol</th>\n",
       "      <th>quality</th>\n",
       "    </tr>\n",
       "  </thead>\n",
       "  <tbody>\n",
       "    <tr>\n",
       "      <th>0</th>\n",
       "      <td>7.4</td>\n",
       "      <td>0.70</td>\n",
       "      <td>0.00</td>\n",
       "      <td>1.9</td>\n",
       "      <td>0.076</td>\n",
       "      <td>34.0</td>\n",
       "      <td>0.9978</td>\n",
       "      <td>3.51</td>\n",
       "      <td>0.56</td>\n",
       "      <td>9.4</td>\n",
       "      <td>5</td>\n",
       "    </tr>\n",
       "    <tr>\n",
       "      <th>1</th>\n",
       "      <td>7.8</td>\n",
       "      <td>0.88</td>\n",
       "      <td>0.00</td>\n",
       "      <td>2.6</td>\n",
       "      <td>0.098</td>\n",
       "      <td>67.0</td>\n",
       "      <td>0.9968</td>\n",
       "      <td>3.20</td>\n",
       "      <td>0.68</td>\n",
       "      <td>9.8</td>\n",
       "      <td>5</td>\n",
       "    </tr>\n",
       "    <tr>\n",
       "      <th>2</th>\n",
       "      <td>7.8</td>\n",
       "      <td>0.76</td>\n",
       "      <td>0.04</td>\n",
       "      <td>2.3</td>\n",
       "      <td>0.092</td>\n",
       "      <td>54.0</td>\n",
       "      <td>0.9970</td>\n",
       "      <td>3.26</td>\n",
       "      <td>0.65</td>\n",
       "      <td>9.8</td>\n",
       "      <td>5</td>\n",
       "    </tr>\n",
       "    <tr>\n",
       "      <th>3</th>\n",
       "      <td>11.2</td>\n",
       "      <td>0.28</td>\n",
       "      <td>0.56</td>\n",
       "      <td>1.9</td>\n",
       "      <td>0.075</td>\n",
       "      <td>60.0</td>\n",
       "      <td>0.9980</td>\n",
       "      <td>3.16</td>\n",
       "      <td>0.58</td>\n",
       "      <td>9.8</td>\n",
       "      <td>6</td>\n",
       "    </tr>\n",
       "    <tr>\n",
       "      <th>4</th>\n",
       "      <td>7.4</td>\n",
       "      <td>0.70</td>\n",
       "      <td>0.00</td>\n",
       "      <td>1.9</td>\n",
       "      <td>0.076</td>\n",
       "      <td>34.0</td>\n",
       "      <td>0.9978</td>\n",
       "      <td>3.51</td>\n",
       "      <td>0.56</td>\n",
       "      <td>9.4</td>\n",
       "      <td>5</td>\n",
       "    </tr>\n",
       "    <tr>\n",
       "      <th>5</th>\n",
       "      <td>7.4</td>\n",
       "      <td>0.66</td>\n",
       "      <td>0.00</td>\n",
       "      <td>1.8</td>\n",
       "      <td>0.075</td>\n",
       "      <td>40.0</td>\n",
       "      <td>0.9978</td>\n",
       "      <td>3.51</td>\n",
       "      <td>0.56</td>\n",
       "      <td>9.4</td>\n",
       "      <td>5</td>\n",
       "    </tr>\n",
       "    <tr>\n",
       "      <th>6</th>\n",
       "      <td>7.9</td>\n",
       "      <td>0.60</td>\n",
       "      <td>0.06</td>\n",
       "      <td>1.6</td>\n",
       "      <td>0.069</td>\n",
       "      <td>59.0</td>\n",
       "      <td>0.9964</td>\n",
       "      <td>3.30</td>\n",
       "      <td>0.46</td>\n",
       "      <td>9.4</td>\n",
       "      <td>5</td>\n",
       "    </tr>\n",
       "    <tr>\n",
       "      <th>7</th>\n",
       "      <td>7.3</td>\n",
       "      <td>0.65</td>\n",
       "      <td>0.00</td>\n",
       "      <td>1.2</td>\n",
       "      <td>0.065</td>\n",
       "      <td>21.0</td>\n",
       "      <td>0.9946</td>\n",
       "      <td>3.39</td>\n",
       "      <td>0.47</td>\n",
       "      <td>10.0</td>\n",
       "      <td>7</td>\n",
       "    </tr>\n",
       "    <tr>\n",
       "      <th>8</th>\n",
       "      <td>7.8</td>\n",
       "      <td>0.58</td>\n",
       "      <td>0.02</td>\n",
       "      <td>2.0</td>\n",
       "      <td>0.073</td>\n",
       "      <td>18.0</td>\n",
       "      <td>0.9968</td>\n",
       "      <td>3.36</td>\n",
       "      <td>0.57</td>\n",
       "      <td>9.5</td>\n",
       "      <td>7</td>\n",
       "    </tr>\n",
       "    <tr>\n",
       "      <th>9</th>\n",
       "      <td>7.5</td>\n",
       "      <td>0.50</td>\n",
       "      <td>0.36</td>\n",
       "      <td>6.1</td>\n",
       "      <td>0.071</td>\n",
       "      <td>102.0</td>\n",
       "      <td>0.9978</td>\n",
       "      <td>3.35</td>\n",
       "      <td>0.80</td>\n",
       "      <td>10.5</td>\n",
       "      <td>5</td>\n",
       "    </tr>\n",
       "  </tbody>\n",
       "</table>\n",
       "</div>"
      ],
      "text/plain": [
       "   fixed acidity  volatile acidity  citric acid  residual sugar  chlorides  \\\n",
       "0            7.4              0.70         0.00             1.9      0.076   \n",
       "1            7.8              0.88         0.00             2.6      0.098   \n",
       "2            7.8              0.76         0.04             2.3      0.092   \n",
       "3           11.2              0.28         0.56             1.9      0.075   \n",
       "4            7.4              0.70         0.00             1.9      0.076   \n",
       "5            7.4              0.66         0.00             1.8      0.075   \n",
       "6            7.9              0.60         0.06             1.6      0.069   \n",
       "7            7.3              0.65         0.00             1.2      0.065   \n",
       "8            7.8              0.58         0.02             2.0      0.073   \n",
       "9            7.5              0.50         0.36             6.1      0.071   \n",
       "\n",
       "   total sulfur dioxide  density    pH  sulphates  alcohol  quality  \n",
       "0                  34.0   0.9978  3.51       0.56      9.4        5  \n",
       "1                  67.0   0.9968  3.20       0.68      9.8        5  \n",
       "2                  54.0   0.9970  3.26       0.65      9.8        5  \n",
       "3                  60.0   0.9980  3.16       0.58      9.8        6  \n",
       "4                  34.0   0.9978  3.51       0.56      9.4        5  \n",
       "5                  40.0   0.9978  3.51       0.56      9.4        5  \n",
       "6                  59.0   0.9964  3.30       0.46      9.4        5  \n",
       "7                  21.0   0.9946  3.39       0.47     10.0        7  \n",
       "8                  18.0   0.9968  3.36       0.57      9.5        7  \n",
       "9                 102.0   0.9978  3.35       0.80     10.5        5  "
      ]
     },
     "execution_count": 57,
     "metadata": {},
     "output_type": "execute_result"
    }
   ],
   "source": [
    "dataset.head(10)"
   ]
  },
  {
   "cell_type": "code",
   "execution_count": 58,
   "id": "5aa4de3e",
   "metadata": {
    "scrolled": true
   },
   "outputs": [
    {
     "data": {
      "text/html": [
       "<div>\n",
       "<style scoped>\n",
       "    .dataframe tbody tr th:only-of-type {\n",
       "        vertical-align: middle;\n",
       "    }\n",
       "\n",
       "    .dataframe tbody tr th {\n",
       "        vertical-align: top;\n",
       "    }\n",
       "\n",
       "    .dataframe thead th {\n",
       "        text-align: right;\n",
       "    }\n",
       "</style>\n",
       "<table border=\"1\" class=\"dataframe\">\n",
       "  <thead>\n",
       "    <tr style=\"text-align: right;\">\n",
       "      <th></th>\n",
       "      <th>fixed acidity</th>\n",
       "      <th>volatile acidity</th>\n",
       "      <th>citric acid</th>\n",
       "      <th>residual sugar</th>\n",
       "      <th>chlorides</th>\n",
       "      <th>total sulfur dioxide</th>\n",
       "      <th>density</th>\n",
       "      <th>pH</th>\n",
       "      <th>sulphates</th>\n",
       "      <th>alcohol</th>\n",
       "      <th>quality</th>\n",
       "    </tr>\n",
       "  </thead>\n",
       "  <tbody>\n",
       "    <tr>\n",
       "      <th>count</th>\n",
       "      <td>1599.000000</td>\n",
       "      <td>1599.000000</td>\n",
       "      <td>1599.000000</td>\n",
       "      <td>1599.000000</td>\n",
       "      <td>1599.000000</td>\n",
       "      <td>1599.000000</td>\n",
       "      <td>1599.000000</td>\n",
       "      <td>1599.000000</td>\n",
       "      <td>1599.000000</td>\n",
       "      <td>1599.000000</td>\n",
       "      <td>1599.000000</td>\n",
       "    </tr>\n",
       "    <tr>\n",
       "      <th>mean</th>\n",
       "      <td>8.271004</td>\n",
       "      <td>0.523460</td>\n",
       "      <td>0.270520</td>\n",
       "      <td>2.398633</td>\n",
       "      <td>0.082099</td>\n",
       "      <td>45.315208</td>\n",
       "      <td>0.996704</td>\n",
       "      <td>3.308579</td>\n",
       "      <td>0.645528</td>\n",
       "      <td>10.404524</td>\n",
       "      <td>5.636023</td>\n",
       "    </tr>\n",
       "    <tr>\n",
       "      <th>std</th>\n",
       "      <td>1.645835</td>\n",
       "      <td>0.169903</td>\n",
       "      <td>0.193945</td>\n",
       "      <td>0.880654</td>\n",
       "      <td>0.022769</td>\n",
       "      <td>30.331264</td>\n",
       "      <td>0.001814</td>\n",
       "      <td>0.149421</td>\n",
       "      <td>0.133713</td>\n",
       "      <td>1.032819</td>\n",
       "      <td>0.807569</td>\n",
       "    </tr>\n",
       "    <tr>\n",
       "      <th>min</th>\n",
       "      <td>4.600000</td>\n",
       "      <td>0.120000</td>\n",
       "      <td>0.000000</td>\n",
       "      <td>0.900000</td>\n",
       "      <td>0.012000</td>\n",
       "      <td>6.000000</td>\n",
       "      <td>0.990070</td>\n",
       "      <td>2.740000</td>\n",
       "      <td>0.330000</td>\n",
       "      <td>8.400000</td>\n",
       "      <td>3.000000</td>\n",
       "    </tr>\n",
       "    <tr>\n",
       "      <th>25%</th>\n",
       "      <td>7.100000</td>\n",
       "      <td>0.390000</td>\n",
       "      <td>0.090000</td>\n",
       "      <td>1.900000</td>\n",
       "      <td>0.070000</td>\n",
       "      <td>22.000000</td>\n",
       "      <td>0.995600</td>\n",
       "      <td>3.210000</td>\n",
       "      <td>0.550000</td>\n",
       "      <td>9.500000</td>\n",
       "      <td>5.000000</td>\n",
       "    </tr>\n",
       "    <tr>\n",
       "      <th>50%</th>\n",
       "      <td>7.900000</td>\n",
       "      <td>0.520000</td>\n",
       "      <td>0.260000</td>\n",
       "      <td>2.200000</td>\n",
       "      <td>0.079000</td>\n",
       "      <td>38.000000</td>\n",
       "      <td>0.996747</td>\n",
       "      <td>3.310000</td>\n",
       "      <td>0.620000</td>\n",
       "      <td>10.200000</td>\n",
       "      <td>6.000000</td>\n",
       "    </tr>\n",
       "    <tr>\n",
       "      <th>75%</th>\n",
       "      <td>9.150000</td>\n",
       "      <td>0.635000</td>\n",
       "      <td>0.420000</td>\n",
       "      <td>2.600000</td>\n",
       "      <td>0.089000</td>\n",
       "      <td>61.000000</td>\n",
       "      <td>0.997800</td>\n",
       "      <td>3.400000</td>\n",
       "      <td>0.720000</td>\n",
       "      <td>11.033333</td>\n",
       "      <td>6.000000</td>\n",
       "    </tr>\n",
       "    <tr>\n",
       "      <th>max</th>\n",
       "      <td>13.500000</td>\n",
       "      <td>1.040000</td>\n",
       "      <td>0.790000</td>\n",
       "      <td>6.700000</td>\n",
       "      <td>0.226000</td>\n",
       "      <td>145.000000</td>\n",
       "      <td>1.002200</td>\n",
       "      <td>3.750000</td>\n",
       "      <td>1.160000</td>\n",
       "      <td>13.600000</td>\n",
       "      <td>8.000000</td>\n",
       "    </tr>\n",
       "  </tbody>\n",
       "</table>\n",
       "</div>"
      ],
      "text/plain": [
       "       fixed acidity  volatile acidity  citric acid  residual sugar  \\\n",
       "count    1599.000000       1599.000000  1599.000000     1599.000000   \n",
       "mean        8.271004          0.523460     0.270520        2.398633   \n",
       "std         1.645835          0.169903     0.193945        0.880654   \n",
       "min         4.600000          0.120000     0.000000        0.900000   \n",
       "25%         7.100000          0.390000     0.090000        1.900000   \n",
       "50%         7.900000          0.520000     0.260000        2.200000   \n",
       "75%         9.150000          0.635000     0.420000        2.600000   \n",
       "max        13.500000          1.040000     0.790000        6.700000   \n",
       "\n",
       "         chlorides  total sulfur dioxide      density           pH  \\\n",
       "count  1599.000000           1599.000000  1599.000000  1599.000000   \n",
       "mean      0.082099             45.315208     0.996704     3.308579   \n",
       "std       0.022769             30.331264     0.001814     0.149421   \n",
       "min       0.012000              6.000000     0.990070     2.740000   \n",
       "25%       0.070000             22.000000     0.995600     3.210000   \n",
       "50%       0.079000             38.000000     0.996747     3.310000   \n",
       "75%       0.089000             61.000000     0.997800     3.400000   \n",
       "max       0.226000            145.000000     1.002200     3.750000   \n",
       "\n",
       "         sulphates      alcohol      quality  \n",
       "count  1599.000000  1599.000000  1599.000000  \n",
       "mean      0.645528    10.404524     5.636023  \n",
       "std       0.133713     1.032819     0.807569  \n",
       "min       0.330000     8.400000     3.000000  \n",
       "25%       0.550000     9.500000     5.000000  \n",
       "50%       0.620000    10.200000     6.000000  \n",
       "75%       0.720000    11.033333     6.000000  \n",
       "max       1.160000    13.600000     8.000000  "
      ]
     },
     "execution_count": 58,
     "metadata": {},
     "output_type": "execute_result"
    }
   ],
   "source": [
    "dataset.describe()"
   ]
  },
  {
   "cell_type": "markdown",
   "id": "71e42232",
   "metadata": {},
   "source": [
    "### Histograms"
   ]
  },
  {
   "cell_type": "code",
   "execution_count": 59,
   "id": "a9f8338b",
   "metadata": {
    "scrolled": false
   },
   "outputs": [
    {
     "data": {
      "image/png": "[encoded data removed]",
      "text/plain": [
       "<Figure size 432x288 with 1 Axes>"
      ]
     },
     "metadata": {
      "needs_background": "light"
     },
     "output_type": "display_data"
    }
   ],
   "source": [
    "plt.hist(x='quality', data=dataset, alpha=0.5)\n",
    "plt.xlabel('Quality')\n",
    "plt.ylabel('Count')\n",
    "plt.title('Histogram of Quality of red wine')\n",
    "plt.show()"
   ]
  },
  {
   "cell_type": "markdown",
   "id": "8f31c700",
   "metadata": {},
   "source": [
    "From the histogram above, we can see that the quality of sampled wine is majorly between 5-7. "
   ]
  },
  {
   "cell_type": "markdown",
   "id": "153b15df",
   "metadata": {},
   "source": [
    "#### Now, let's take a further look into the histograms of each feature in our dataset, as required in project: "
   ]
  },
  {
   "cell_type": "code",
   "execution_count": 186,
   "id": "d7adc80e",
   "metadata": {
    "scrolled": false
   },
   "outputs": [
    {
     "data": {
      "text/plain": [
       "array([[<AxesSubplot:title={'center':'fixed acidity'}>,\n",
       "        <AxesSubplot:title={'center':'volatile acidity'}>,\n",
       "        <AxesSubplot:title={'center':'citric acid'}>],\n",
       "       [<AxesSubplot:title={'center':'residual sugar'}>,\n",
       "        <AxesSubplot:title={'center':'chlorides'}>,\n",
       "        <AxesSubplot:title={'center':'total sulfur dioxide'}>],\n",
       "       [<AxesSubplot:title={'center':'density'}>,\n",
       "        <AxesSubplot:title={'center':'pH'}>,\n",
       "        <AxesSubplot:title={'center':'sulphates'}>],\n",
       "       [<AxesSubplot:title={'center':'alcohol'}>,\n",
       "        <AxesSubplot:title={'center':'quality'}>, <AxesSubplot:>]],\n",
       "      dtype=object)"
      ]
     },
     "execution_count": 186,
     "metadata": {},
     "output_type": "execute_result"
    },
    {
     "data": {
      "image/png": "[encoded data removed]",
      "text/plain": [
       "<Figure size 1152x1296 with 12 Axes>"
      ]
     },
     "metadata": {
      "needs_background": "light"
     },
     "output_type": "display_data"
    }
   ],
   "source": [
    "dataset.hist(figsize = (16,18), color='r', alpha=0.5)"
   ]
  },
  {
   "cell_type": "markdown",
   "id": "603320ef",
   "metadata": {},
   "source": [
    "### Prepare the data for modeling by carrying out any steps that you think are necessary"
   ]
  },
  {
   "cell_type": "markdown",
   "id": "dcbdeee7",
   "metadata": {},
   "source": [
    "In order to better process the data and yield a plausible yet visualizable outcome, we need to scale our data in order to elimate the major differences each feature carries in terms of the values. This step can be done by using scalers. There are a lot of scalers that can be used. However, I've chosed to use the standardScaler from sklearn as I found it to be neatful. "
   ]
  },
  {
   "cell_type": "markdown",
   "id": "d628c5b9",
   "metadata": {},
   "source": [
    "In addition, since we know by now that our target variable is quality, we will not scale it. In order to do that, I will drop it from the dataset and scale the rest of the features, then readd it after the scalling is complete."
   ]
  },
  {
   "cell_type": "code",
   "execution_count": 61,
   "id": "1af70c95",
   "metadata": {
    "scrolled": true
   },
   "outputs": [],
   "source": [
    "from sklearn.preprocessing import StandardScaler\n",
    "scaler = StandardScaler()\n",
    "datasetNew = dataset.drop(['quality'], axis=1, inplace=False)\n",
    "scaled1 = StandardScaler().fit_transform(datasetNew)\n",
    "scaled1[:5]\n",
    "datasetNew['quality'] = dataset['quality']\n",
    "#splitting the data into features and labels. \n",
    "X = datasetNew.drop('quality', axis=1)\n",
    "Y = datasetNew['quality']"
   ]
  },
  {
   "cell_type": "code",
   "execution_count": 62,
   "id": "9aea46f1",
   "metadata": {
    "scrolled": true
   },
   "outputs": [
    {
     "data": {
      "text/html": [
       "<div>\n",
       "<style scoped>\n",
       "    .dataframe tbody tr th:only-of-type {\n",
       "        vertical-align: middle;\n",
       "    }\n",
       "\n",
       "    .dataframe tbody tr th {\n",
       "        vertical-align: top;\n",
       "    }\n",
       "\n",
       "    .dataframe thead th {\n",
       "        text-align: right;\n",
       "    }\n",
       "</style>\n",
       "<table border=\"1\" class=\"dataframe\">\n",
       "  <thead>\n",
       "    <tr style=\"text-align: right;\">\n",
       "      <th></th>\n",
       "      <th>fixed acidity</th>\n",
       "      <th>volatile acidity</th>\n",
       "      <th>citric acid</th>\n",
       "      <th>residual sugar</th>\n",
       "      <th>chlorides</th>\n",
       "      <th>total sulfur dioxide</th>\n",
       "      <th>density</th>\n",
       "      <th>pH</th>\n",
       "      <th>sulphates</th>\n",
       "      <th>alcohol</th>\n",
       "    </tr>\n",
       "  </thead>\n",
       "  <tbody>\n",
       "    <tr>\n",
       "      <th>0</th>\n",
       "      <td>7.4</td>\n",
       "      <td>0.70</td>\n",
       "      <td>0.00</td>\n",
       "      <td>1.9</td>\n",
       "      <td>0.076</td>\n",
       "      <td>34.0</td>\n",
       "      <td>0.9978</td>\n",
       "      <td>3.51</td>\n",
       "      <td>0.56</td>\n",
       "      <td>9.4</td>\n",
       "    </tr>\n",
       "    <tr>\n",
       "      <th>1</th>\n",
       "      <td>7.8</td>\n",
       "      <td>0.88</td>\n",
       "      <td>0.00</td>\n",
       "      <td>2.6</td>\n",
       "      <td>0.098</td>\n",
       "      <td>67.0</td>\n",
       "      <td>0.9968</td>\n",
       "      <td>3.20</td>\n",
       "      <td>0.68</td>\n",
       "      <td>9.8</td>\n",
       "    </tr>\n",
       "    <tr>\n",
       "      <th>2</th>\n",
       "      <td>7.8</td>\n",
       "      <td>0.76</td>\n",
       "      <td>0.04</td>\n",
       "      <td>2.3</td>\n",
       "      <td>0.092</td>\n",
       "      <td>54.0</td>\n",
       "      <td>0.9970</td>\n",
       "      <td>3.26</td>\n",
       "      <td>0.65</td>\n",
       "      <td>9.8</td>\n",
       "    </tr>\n",
       "    <tr>\n",
       "      <th>3</th>\n",
       "      <td>11.2</td>\n",
       "      <td>0.28</td>\n",
       "      <td>0.56</td>\n",
       "      <td>1.9</td>\n",
       "      <td>0.075</td>\n",
       "      <td>60.0</td>\n",
       "      <td>0.9980</td>\n",
       "      <td>3.16</td>\n",
       "      <td>0.58</td>\n",
       "      <td>9.8</td>\n",
       "    </tr>\n",
       "    <tr>\n",
       "      <th>4</th>\n",
       "      <td>7.4</td>\n",
       "      <td>0.70</td>\n",
       "      <td>0.00</td>\n",
       "      <td>1.9</td>\n",
       "      <td>0.076</td>\n",
       "      <td>34.0</td>\n",
       "      <td>0.9978</td>\n",
       "      <td>3.51</td>\n",
       "      <td>0.56</td>\n",
       "      <td>9.4</td>\n",
       "    </tr>\n",
       "  </tbody>\n",
       "</table>\n",
       "</div>"
      ],
      "text/plain": [
       "   fixed acidity  volatile acidity  citric acid  residual sugar  chlorides  \\\n",
       "0            7.4              0.70         0.00             1.9      0.076   \n",
       "1            7.8              0.88         0.00             2.6      0.098   \n",
       "2            7.8              0.76         0.04             2.3      0.092   \n",
       "3           11.2              0.28         0.56             1.9      0.075   \n",
       "4            7.4              0.70         0.00             1.9      0.076   \n",
       "\n",
       "   total sulfur dioxide  density    pH  sulphates  alcohol  \n",
       "0                  34.0   0.9978  3.51       0.56      9.4  \n",
       "1                  67.0   0.9968  3.20       0.68      9.8  \n",
       "2                  54.0   0.9970  3.26       0.65      9.8  \n",
       "3                  60.0   0.9980  3.16       0.58      9.8  \n",
       "4                  34.0   0.9978  3.51       0.56      9.4  "
      ]
     },
     "execution_count": 62,
     "metadata": {},
     "output_type": "execute_result"
    }
   ],
   "source": [
    "X.head()"
   ]
  },
  {
   "cell_type": "markdown",
   "id": "e59d8dd8",
   "metadata": {},
   "source": [
    "### Modeling\n",
    "\n",
    "*TODO*\n",
    "<li>Implement Multivariable Linear Regression using any 2 Regression algorithms of your choice</li>: DONE\n",
    "<li>Implement a Neural Network using Tensorflow and Keras to classify wine quality</li>: DONE"
   ]
  },
  {
   "cell_type": "markdown",
   "id": "d11f0409",
   "metadata": {},
   "source": [
    "To begin with, we will proceed with splitting our data into train, test, and validation sets with the 80-10-10 split. \n",
    "80% training set\n",
    "10% testing set\n",
    "10% validation set"
   ]
  },
  {
   "cell_type": "code",
   "execution_count": 187,
   "id": "ece95727",
   "metadata": {},
   "outputs": [
    {
     "name": "stdout",
     "output_type": "stream",
     "text": [
      "(1279, 10) (160, 10) (160, 10)\n"
     ]
    }
   ],
   "source": [
    "X_train, X_test, Y_train, Y_test = train_test_split(X,Y, test_size=0.2, random_state =42)\n",
    "X_test, X_val, Y_test, Y_val = train_test_split(X_test, Y_test, test_size = 0.5, random_state = 42)\n",
    "print(X_train.shape, X_test.shape, X_val.shape)"
   ]
  },
  {
   "cell_type": "code",
   "execution_count": 64,
   "id": "a4066e8c",
   "metadata": {},
   "outputs": [
    {
     "name": "stdout",
     "output_type": "stream",
     "text": [
      "1279 160 160\n"
     ]
    }
   ],
   "source": [
    "print(len(Y_train), len(Y_val), len(Y_test))"
   ]
  },
  {
   "cell_type": "markdown",
   "id": "7c608a72",
   "metadata": {},
   "source": [
    "##### I've chosen the following multivariable linear regression algorithms to work with "
   ]
  },
  {
   "cell_type": "markdown",
   "id": "e2d6d413",
   "metadata": {},
   "source": [
    "- Logistic Regression\n",
    "- RandomForestRegressor\n",
    "- Linear Regression"
   ]
  },
  {
   "cell_type": "markdown",
   "id": "13658826",
   "metadata": {},
   "source": [
    "Please note that the scores of these algorithms are computed and further analysis of metrics is shown later in this project"
   ]
  },
  {
   "cell_type": "code",
   "execution_count": 65,
   "id": "e4a416b4",
   "metadata": {},
   "outputs": [
    {
     "data": {
      "text/plain": [
       "LogisticRegression()"
      ]
     },
     "execution_count": 65,
     "metadata": {},
     "output_type": "execute_result"
    }
   ],
   "source": [
    "# Logistic Regression (First Regression Algorithm)\n",
    "LR=LogisticRegression()\n",
    "LR.fit(X_train, Y_train)"
   ]
  },
  {
   "cell_type": "code",
   "execution_count": 66,
   "id": "3bec4e68",
   "metadata": {},
   "outputs": [
    {
     "data": {
      "text/plain": [
       "array([0.56640625, 0.55859375, 0.56640625, 0.5859375 , 0.63529412])"
      ]
     },
     "execution_count": 66,
     "metadata": {},
     "output_type": "execute_result"
    }
   ],
   "source": [
    "scores = cross_val_score(LR, X_train, Y_train.values.ravel(), cv=5)\n",
    "scores"
   ]
  },
  {
   "cell_type": "code",
   "execution_count": 67,
   "id": "cf0edd8c",
   "metadata": {},
   "outputs": [
    {
     "name": "stdout",
     "output_type": "stream",
     "text": [
      "0.5840500390930414\n"
     ]
    }
   ],
   "source": [
    "print(LR.score(X_train,Y_train))"
   ]
  },
  {
   "cell_type": "code",
   "execution_count": 68,
   "id": "bad0b44d",
   "metadata": {},
   "outputs": [
    {
     "data": {
      "text/plain": [
       "RandomForestRegressor(random_state=0)"
      ]
     },
     "execution_count": 68,
     "metadata": {},
     "output_type": "execute_result"
    }
   ],
   "source": [
    "from sklearn.ensemble import RandomForestRegressor\n",
    "#Second regression Algorithm \n",
    "regressor = RandomForestRegressor(n_estimators = 100, random_state = 0)\n",
    "regressor.fit(X_train,Y_train) "
   ]
  },
  {
   "cell_type": "code",
   "execution_count": 69,
   "id": "93fcb338",
   "metadata": {},
   "outputs": [
    {
     "data": {
      "text/plain": [
       "array([0.32546113, 0.45410251, 0.38631396, 0.39879029, 0.52802318])"
      ]
     },
     "execution_count": 69,
     "metadata": {},
     "output_type": "execute_result"
    }
   ],
   "source": [
    "scores = cross_val_score(regressor, X_train, Y_train.values.ravel(), cv=5)\n",
    "scores"
   ]
  },
  {
   "cell_type": "markdown",
   "id": "9fd6049d",
   "metadata": {},
   "source": [
    "As we can see from below, the Random Forest Regressor yielded a good score compared to linear regression and logistic regression."
   ]
  },
  {
   "cell_type": "code",
   "execution_count": 70,
   "id": "08c5b6a3",
   "metadata": {},
   "outputs": [
    {
     "name": "stdout",
     "output_type": "stream",
     "text": [
      "0.9234302423454287\n"
     ]
    }
   ],
   "source": [
    "print(regressor.score(X_train,Y_train))"
   ]
  },
  {
   "cell_type": "code",
   "execution_count": 71,
   "id": "693d6c8b",
   "metadata": {},
   "outputs": [
    {
     "data": {
      "text/plain": [
       "LinearRegression()"
      ]
     },
     "execution_count": 71,
     "metadata": {},
     "output_type": "execute_result"
    }
   ],
   "source": [
    "from sklearn.linear_model import LinearRegression\n",
    "#third regression algorithm (total=3, did an extra one)\n",
    "LinReg = LinearRegression()\n",
    "LinReg.fit(X_train,Y_train)"
   ]
  },
  {
   "cell_type": "code",
   "execution_count": 72,
   "id": "c5e94d87",
   "metadata": {},
   "outputs": [
    {
     "data": {
      "text/plain": [
       "array([0.32546113, 0.45410251, 0.38631396, 0.39879029, 0.52802318])"
      ]
     },
     "execution_count": 72,
     "metadata": {},
     "output_type": "execute_result"
    }
   ],
   "source": [
    "scores = cross_val_score(regressor, X_train, Y_train.values.ravel(), cv=5)\n",
    "scores"
   ]
  },
  {
   "cell_type": "code",
   "execution_count": 73,
   "id": "a05e3616",
   "metadata": {},
   "outputs": [
    {
     "name": "stdout",
     "output_type": "stream",
     "text": [
      "0.35329638037798583\n"
     ]
    }
   ],
   "source": [
    "print(LinReg.score(X_train,Y_train))"
   ]
  },
  {
   "cell_type": "markdown",
   "id": "54d1f12b",
   "metadata": {},
   "source": [
    "#### Implement a Neural Network using Tensorflow and Keras to classify wine quality"
   ]
  },
  {
   "cell_type": "markdown",
   "id": "aeaf05bc",
   "metadata": {},
   "source": [
    "Importing our dependencies..."
   ]
  },
  {
   "cell_type": "code",
   "execution_count": 174,
   "id": "39afc512",
   "metadata": {},
   "outputs": [],
   "source": [
    "import tensorflow as tf\n",
    "from tensorflow.keras.models import Sequential\n",
    "from tensorflow.keras.layers import Flatten, Dense, Dropout"
   ]
  },
  {
   "cell_type": "markdown",
   "id": "3e92e528",
   "metadata": {},
   "source": [
    "I've used EarlyStopping callbacks from Keras API as I've got the best results using it. The class is obtained from: \n",
    "https://keras.io/api/callbacks/early_stopping/"
   ]
  },
  {
   "cell_type": "code",
   "execution_count": 175,
   "id": "e4261bda",
   "metadata": {
    "scrolled": true
   },
   "outputs": [
    {
     "data": {
      "text/plain": [
       "<keras.callbacks.EarlyStopping at 0x20394e8b700>"
      ]
     },
     "execution_count": 175,
     "metadata": {},
     "output_type": "execute_result"
    }
   ],
   "source": [
    "NeuralNetwork = Sequential([\n",
    "  Flatten(input_shape=(10,)),\n",
    "  Dense(512, activation=tf.nn.relu),\n",
    "  Dense(200, activation=tf.nn.relu),\n",
    "  Dense(100, activation=tf.nn.relu),\n",
    "  Dense(10, activation=tf.nn.softmax)\n",
    "])\n",
    "tf.keras.callbacks.EarlyStopping(\n",
    "    monitor=\"val_loss\",\n",
    "    min_delta=0,\n",
    "    patience=0,\n",
    "    verbose=0,\n",
    "    mode=\"auto\",\n",
    "    baseline=None,\n",
    "    restore_best_weights=False,\n",
    ")"
   ]
  },
  {
   "cell_type": "code",
   "execution_count": 176,
   "id": "1bf64798",
   "metadata": {},
   "outputs": [
    {
     "name": "stdout",
     "output_type": "stream",
     "text": [
      "Model: \"sequential_8\"\n",
      "_________________________________________________________________\n",
      " Layer (type)                Output Shape              Param #   \n",
      "=================================================================\n",
      " flatten_6 (Flatten)         (None, 10)                0         \n",
      "                                                                 \n",
      " dense_26 (Dense)            (None, 512)               5632      \n",
      "                                                                 \n",
      " dense_27 (Dense)            (None, 200)               102600    \n",
      "                                                                 \n",
      " dense_28 (Dense)            (None, 100)               20100     \n",
      "                                                                 \n",
      " dense_29 (Dense)            (None, 10)                1010      \n",
      "                                                                 \n",
      "=================================================================\n",
      "Total params: 129,342\n",
      "Trainable params: 129,342\n",
      "Non-trainable params: 0\n",
      "_________________________________________________________________\n"
     ]
    }
   ],
   "source": [
    "NeuralNetwork.summary()"
   ]
  },
  {
   "cell_type": "markdown",
   "id": "f22159e5",
   "metadata": {},
   "source": [
    "I've used the tensorflow SGD optimizer as I've got the best results using it. For more details: https://www.tensorflow.org/api_docs/python/tf/keras/optimizers/SGD"
   ]
  },
  {
   "cell_type": "code",
   "execution_count": 177,
   "id": "a262a701",
   "metadata": {
    "scrolled": true
   },
   "outputs": [],
   "source": [
    "NeuralNetwork.compile(optimizer='SGD',\n",
    "              loss='sparse_categorical_crossentropy',\n",
    "              metrics=['accuracy'])\n",
    "\n",
    "callback = tf.keras.callbacks.EarlyStopping(monitor='loss', patience=30)"
   ]
  },
  {
   "cell_type": "code",
   "execution_count": 178,
   "id": "d19797f4",
   "metadata": {
    "scrolled": true
   },
   "outputs": [
    {
     "name": "stdout",
     "output_type": "stream",
     "text": [
      "Epoch 1/400\n",
      "10/10 [==============================] - 3s 111ms/step - loss: 3.0102 - accuracy: 0.3385 - val_loss: 1.3006 - val_accuracy: 0.4750\n",
      "Epoch 2/400\n",
      "10/10 [==============================] - 0s 19ms/step - loss: 1.2534 - accuracy: 0.4730 - val_loss: 1.2300 - val_accuracy: 0.5000\n",
      "Epoch 3/400\n",
      "10/10 [==============================] - 0s 18ms/step - loss: 1.2249 - accuracy: 0.4590 - val_loss: 1.2086 - val_accuracy: 0.5000\n",
      "Epoch 4/400\n",
      "10/10 [==============================] - 0s 18ms/step - loss: 1.2188 - accuracy: 0.4457 - val_loss: 1.2317 - val_accuracy: 0.4375\n",
      "Epoch 5/400\n",
      "10/10 [==============================] - 0s 18ms/step - loss: 1.2227 - accuracy: 0.4457 - val_loss: 1.2149 - val_accuracy: 0.5063\n",
      "Epoch 6/400\n",
      "10/10 [==============================] - 0s 17ms/step - loss: 1.1773 - accuracy: 0.4949 - val_loss: 1.1700 - val_accuracy: 0.5375\n",
      "Epoch 7/400\n",
      "10/10 [==============================] - 0s 19ms/step - loss: 1.1703 - accuracy: 0.4777 - val_loss: 1.1738 - val_accuracy: 0.5375\n",
      "Epoch 8/400\n",
      "10/10 [==============================] - 0s 15ms/step - loss: 1.1577 - accuracy: 0.4769 - val_loss: 1.1656 - val_accuracy: 0.5000\n",
      "Epoch 9/400\n",
      "10/10 [==============================] - 0s 27ms/step - loss: 1.1882 - accuracy: 0.4597 - val_loss: 1.1904 - val_accuracy: 0.4437\n",
      "Epoch 10/400\n",
      "10/10 [==============================] - 0s 22ms/step - loss: 1.1699 - accuracy: 0.4597 - val_loss: 1.1485 - val_accuracy: 0.5375\n",
      "Epoch 11/400\n",
      "10/10 [==============================] - 0s 17ms/step - loss: 1.1689 - accuracy: 0.4808 - val_loss: 1.1561 - val_accuracy: 0.5312\n",
      "Epoch 12/400\n",
      "10/10 [==============================] - 0s 15ms/step - loss: 1.1418 - accuracy: 0.4902 - val_loss: 1.1472 - val_accuracy: 0.5312\n",
      "Epoch 13/400\n",
      "10/10 [==============================] - 0s 16ms/step - loss: 1.1495 - accuracy: 0.4980 - val_loss: 1.1582 - val_accuracy: 0.5125\n",
      "Epoch 14/400\n",
      "10/10 [==============================] - 0s 16ms/step - loss: 1.1557 - accuracy: 0.4691 - val_loss: 1.1533 - val_accuracy: 0.5312\n",
      "Epoch 15/400\n",
      "10/10 [==============================] - 0s 15ms/step - loss: 1.1358 - accuracy: 0.4777 - val_loss: 1.1444 - val_accuracy: 0.5375\n",
      "Epoch 16/400\n",
      "10/10 [==============================] - 0s 15ms/step - loss: 1.1376 - accuracy: 0.4824 - val_loss: 1.1452 - val_accuracy: 0.5125\n",
      "Epoch 17/400\n",
      "10/10 [==============================] - 0s 16ms/step - loss: 1.1504 - accuracy: 0.4840 - val_loss: 1.1346 - val_accuracy: 0.5188\n",
      "Epoch 18/400\n",
      "10/10 [==============================] - 0s 15ms/step - loss: 1.1291 - accuracy: 0.4879 - val_loss: 1.1393 - val_accuracy: 0.5188\n",
      "Epoch 19/400\n",
      "10/10 [==============================] - 0s 13ms/step - loss: 1.1347 - accuracy: 0.4855 - val_loss: 1.1410 - val_accuracy: 0.5375\n",
      "Epoch 20/400\n",
      "10/10 [==============================] - 0s 15ms/step - loss: 1.1471 - accuracy: 0.4871 - val_loss: 1.1410 - val_accuracy: 0.5375\n",
      "Epoch 21/400\n",
      "10/10 [==============================] - 0s 15ms/step - loss: 1.1444 - accuracy: 0.4707 - val_loss: 1.1392 - val_accuracy: 0.5437\n",
      "Epoch 22/400\n",
      "10/10 [==============================] - 0s 15ms/step - loss: 1.1410 - accuracy: 0.4973 - val_loss: 1.1549 - val_accuracy: 0.4938\n",
      "Epoch 23/400\n",
      "10/10 [==============================] - 0s 15ms/step - loss: 1.1244 - accuracy: 0.5012 - val_loss: 1.1612 - val_accuracy: 0.4375\n",
      "Epoch 24/400\n",
      "10/10 [==============================] - 0s 16ms/step - loss: 1.1390 - accuracy: 0.4879 - val_loss: 1.1432 - val_accuracy: 0.5125\n",
      "Epoch 25/400\n",
      "10/10 [==============================] - 0s 18ms/step - loss: 1.1246 - accuracy: 0.4957 - val_loss: 1.1401 - val_accuracy: 0.5437\n",
      "Epoch 26/400\n",
      "10/10 [==============================] - 0s 12ms/step - loss: 1.1551 - accuracy: 0.4683 - val_loss: 1.1416 - val_accuracy: 0.5250\n",
      "Epoch 27/400\n",
      "10/10 [==============================] - 0s 13ms/step - loss: 1.1322 - accuracy: 0.4879 - val_loss: 1.1402 - val_accuracy: 0.4500\n",
      "Epoch 28/400\n",
      "10/10 [==============================] - 0s 16ms/step - loss: 1.1315 - accuracy: 0.4887 - val_loss: 1.1305 - val_accuracy: 0.5437\n",
      "Epoch 29/400\n",
      "10/10 [==============================] - 0s 16ms/step - loss: 1.1368 - accuracy: 0.4777 - val_loss: 1.1278 - val_accuracy: 0.5312\n",
      "Epoch 30/400\n",
      "10/10 [==============================] - 0s 15ms/step - loss: 1.1203 - accuracy: 0.4926 - val_loss: 1.1838 - val_accuracy: 0.4437\n",
      "Epoch 31/400\n",
      "10/10 [==============================] - 0s 15ms/step - loss: 1.1449 - accuracy: 0.4754 - val_loss: 1.1373 - val_accuracy: 0.5063\n",
      "Epoch 32/400\n",
      "10/10 [==============================] - 0s 15ms/step - loss: 1.1221 - accuracy: 0.4957 - val_loss: 1.1382 - val_accuracy: 0.5250\n",
      "Epoch 33/400\n",
      "10/10 [==============================] - 0s 13ms/step - loss: 1.1198 - accuracy: 0.5027 - val_loss: 1.1702 - val_accuracy: 0.4875\n",
      "Epoch 34/400\n",
      "10/10 [==============================] - 0s 15ms/step - loss: 1.1372 - accuracy: 0.4902 - val_loss: 1.1404 - val_accuracy: 0.5063\n",
      "Epoch 35/400\n",
      "10/10 [==============================] - 0s 14ms/step - loss: 1.1268 - accuracy: 0.4926 - val_loss: 1.1312 - val_accuracy: 0.5312\n",
      "Epoch 36/400\n",
      "10/10 [==============================] - 0s 14ms/step - loss: 1.1217 - accuracy: 0.4894 - val_loss: 1.1450 - val_accuracy: 0.5000\n",
      "Epoch 37/400\n",
      "10/10 [==============================] - 0s 15ms/step - loss: 1.1259 - accuracy: 0.4863 - val_loss: 1.1381 - val_accuracy: 0.4875\n",
      "Epoch 38/400\n",
      "10/10 [==============================] - 0s 14ms/step - loss: 1.1366 - accuracy: 0.4816 - val_loss: 1.1284 - val_accuracy: 0.5375\n",
      "Epoch 39/400\n",
      "10/10 [==============================] - 0s 14ms/step - loss: 1.1333 - accuracy: 0.4832 - val_loss: 1.1402 - val_accuracy: 0.4938\n",
      "Epoch 40/400\n",
      "10/10 [==============================] - 0s 16ms/step - loss: 1.1257 - accuracy: 0.5035 - val_loss: 1.1399 - val_accuracy: 0.5000\n",
      "Epoch 41/400\n",
      "10/10 [==============================] - 0s 14ms/step - loss: 1.1167 - accuracy: 0.4980 - val_loss: 1.1244 - val_accuracy: 0.5312\n",
      "Epoch 42/400\n",
      "10/10 [==============================] - 0s 16ms/step - loss: 1.1190 - accuracy: 0.4957 - val_loss: 1.1471 - val_accuracy: 0.4938\n",
      "Epoch 43/400\n",
      "10/10 [==============================] - 0s 13ms/step - loss: 1.1263 - accuracy: 0.4894 - val_loss: 1.1379 - val_accuracy: 0.5063\n",
      "Epoch 44/400\n",
      "10/10 [==============================] - 0s 15ms/step - loss: 1.1189 - accuracy: 0.5043 - val_loss: 1.1565 - val_accuracy: 0.4812\n",
      "Epoch 45/400\n",
      "10/10 [==============================] - 0s 16ms/step - loss: 1.1177 - accuracy: 0.5090 - val_loss: 1.1324 - val_accuracy: 0.5188\n",
      "Epoch 46/400\n",
      "10/10 [==============================] - 0s 15ms/step - loss: 1.1220 - accuracy: 0.4949 - val_loss: 1.1334 - val_accuracy: 0.5063\n",
      "Epoch 47/400\n",
      "10/10 [==============================] - 0s 14ms/step - loss: 1.1324 - accuracy: 0.4848 - val_loss: 1.1245 - val_accuracy: 0.5188\n",
      "Epoch 48/400\n",
      "10/10 [==============================] - 0s 15ms/step - loss: 1.1209 - accuracy: 0.4957 - val_loss: 1.1279 - val_accuracy: 0.4812\n",
      "Epoch 49/400\n",
      "10/10 [==============================] - 0s 15ms/step - loss: 1.1234 - accuracy: 0.5043 - val_loss: 1.1295 - val_accuracy: 0.4750\n",
      "Epoch 50/400\n",
      "10/10 [==============================] - 0s 14ms/step - loss: 1.1144 - accuracy: 0.5027 - val_loss: 1.1480 - val_accuracy: 0.4250\n",
      "Epoch 51/400\n",
      "10/10 [==============================] - 0s 14ms/step - loss: 1.1221 - accuracy: 0.4902 - val_loss: 1.1390 - val_accuracy: 0.4938\n",
      "Epoch 52/400\n",
      "10/10 [==============================] - 0s 15ms/step - loss: 1.1277 - accuracy: 0.4973 - val_loss: 1.1722 - val_accuracy: 0.4750\n",
      "Epoch 53/400\n",
      "10/10 [==============================] - 0s 14ms/step - loss: 1.1224 - accuracy: 0.5098 - val_loss: 1.1423 - val_accuracy: 0.4875\n",
      "Epoch 54/400\n",
      "10/10 [==============================] - 0s 14ms/step - loss: 1.1189 - accuracy: 0.5020 - val_loss: 1.1433 - val_accuracy: 0.5375\n",
      "Epoch 55/400\n",
      "10/10 [==============================] - 0s 15ms/step - loss: 1.1109 - accuracy: 0.5066 - val_loss: 1.1251 - val_accuracy: 0.5188\n",
      "Epoch 56/400\n",
      "10/10 [==============================] - 0s 15ms/step - loss: 1.1297 - accuracy: 0.4934 - val_loss: 1.1277 - val_accuracy: 0.5437\n",
      "Epoch 57/400\n",
      "10/10 [==============================] - 0s 11ms/step - loss: 1.1120 - accuracy: 0.5012 - val_loss: 1.1280 - val_accuracy: 0.5250\n",
      "Epoch 58/400\n"
     ]
    },
    {
     "name": "stdout",
     "output_type": "stream",
     "text": [
      "10/10 [==============================] - 0s 18ms/step - loss: 1.1155 - accuracy: 0.4910 - val_loss: 1.1435 - val_accuracy: 0.4938\n",
      "Epoch 59/400\n",
      "10/10 [==============================] - 0s 14ms/step - loss: 1.1116 - accuracy: 0.4902 - val_loss: 1.1187 - val_accuracy: 0.5375\n",
      "Epoch 60/400\n",
      "10/10 [==============================] - 0s 18ms/step - loss: 1.1104 - accuracy: 0.5004 - val_loss: 1.1316 - val_accuracy: 0.5250\n",
      "Epoch 61/400\n",
      "10/10 [==============================] - 0s 13ms/step - loss: 1.1096 - accuracy: 0.5113 - val_loss: 1.1167 - val_accuracy: 0.5312\n",
      "Epoch 62/400\n",
      "10/10 [==============================] - 0s 12ms/step - loss: 1.1265 - accuracy: 0.4769 - val_loss: 1.1493 - val_accuracy: 0.4875\n",
      "Epoch 63/400\n",
      "10/10 [==============================] - 0s 12ms/step - loss: 1.1216 - accuracy: 0.4957 - val_loss: 1.1362 - val_accuracy: 0.4875\n",
      "Epoch 64/400\n",
      "10/10 [==============================] - 0s 13ms/step - loss: 1.1092 - accuracy: 0.5098 - val_loss: 1.1335 - val_accuracy: 0.5063\n",
      "Epoch 65/400\n",
      "10/10 [==============================] - 0s 12ms/step - loss: 1.1137 - accuracy: 0.5035 - val_loss: 1.1329 - val_accuracy: 0.4875\n",
      "Epoch 66/400\n",
      "10/10 [==============================] - 0s 12ms/step - loss: 1.1106 - accuracy: 0.5090 - val_loss: 1.1179 - val_accuracy: 0.5250\n",
      "Epoch 67/400\n",
      "10/10 [==============================] - 0s 13ms/step - loss: 1.1117 - accuracy: 0.5090 - val_loss: 1.1326 - val_accuracy: 0.5000\n",
      "Epoch 68/400\n",
      "10/10 [==============================] - 0s 11ms/step - loss: 1.1125 - accuracy: 0.5121 - val_loss: 1.1278 - val_accuracy: 0.5000\n",
      "Epoch 69/400\n",
      "10/10 [==============================] - 0s 20ms/step - loss: 1.1053 - accuracy: 0.5090 - val_loss: 1.1304 - val_accuracy: 0.5375\n",
      "Epoch 70/400\n",
      "10/10 [==============================] - 0s 22ms/step - loss: 1.1129 - accuracy: 0.4941 - val_loss: 1.1249 - val_accuracy: 0.5125\n",
      "Epoch 71/400\n",
      "10/10 [==============================] - 0s 13ms/step - loss: 1.1242 - accuracy: 0.4730 - val_loss: 1.1210 - val_accuracy: 0.5437\n",
      "Epoch 72/400\n",
      "10/10 [==============================] - 0s 12ms/step - loss: 1.1025 - accuracy: 0.5043 - val_loss: 1.1199 - val_accuracy: 0.5437\n",
      "Epoch 73/400\n",
      "10/10 [==============================] - 0s 12ms/step - loss: 1.1119 - accuracy: 0.5027 - val_loss: 1.1373 - val_accuracy: 0.5063\n",
      "Epoch 74/400\n",
      "10/10 [==============================] - 0s 13ms/step - loss: 1.1189 - accuracy: 0.5027 - val_loss: 1.1285 - val_accuracy: 0.5375\n",
      "Epoch 75/400\n",
      "10/10 [==============================] - 0s 14ms/step - loss: 1.1061 - accuracy: 0.5090 - val_loss: 1.1380 - val_accuracy: 0.5063\n",
      "Epoch 76/400\n",
      "10/10 [==============================] - 0s 12ms/step - loss: 1.1174 - accuracy: 0.4855 - val_loss: 1.1342 - val_accuracy: 0.4250\n",
      "Epoch 77/400\n",
      "10/10 [==============================] - 0s 11ms/step - loss: 1.1047 - accuracy: 0.5098 - val_loss: 1.1176 - val_accuracy: 0.5437\n",
      "Epoch 78/400\n",
      "10/10 [==============================] - 0s 11ms/step - loss: 1.1032 - accuracy: 0.5059 - val_loss: 1.1209 - val_accuracy: 0.5250\n",
      "Epoch 79/400\n",
      "10/10 [==============================] - 0s 12ms/step - loss: 1.1065 - accuracy: 0.5051 - val_loss: 1.1482 - val_accuracy: 0.4437\n",
      "Epoch 80/400\n",
      "10/10 [==============================] - 0s 12ms/step - loss: 1.1130 - accuracy: 0.4957 - val_loss: 1.1169 - val_accuracy: 0.5250\n",
      "Epoch 81/400\n",
      "10/10 [==============================] - 0s 13ms/step - loss: 1.1194 - accuracy: 0.4902 - val_loss: 1.1231 - val_accuracy: 0.5063\n",
      "Epoch 82/400\n",
      "10/10 [==============================] - 0s 11ms/step - loss: 1.1090 - accuracy: 0.4965 - val_loss: 1.1210 - val_accuracy: 0.5063\n",
      "Epoch 83/400\n",
      "10/10 [==============================] - 0s 11ms/step - loss: 1.1060 - accuracy: 0.4926 - val_loss: 1.1265 - val_accuracy: 0.5437\n",
      "Epoch 84/400\n",
      "10/10 [==============================] - 0s 12ms/step - loss: 1.1112 - accuracy: 0.5098 - val_loss: 1.1304 - val_accuracy: 0.4625\n",
      "Epoch 85/400\n",
      "10/10 [==============================] - 0s 11ms/step - loss: 1.1003 - accuracy: 0.5192 - val_loss: 1.1267 - val_accuracy: 0.4812\n",
      "Epoch 86/400\n",
      "10/10 [==============================] - 0s 12ms/step - loss: 1.1133 - accuracy: 0.5098 - val_loss: 1.1521 - val_accuracy: 0.4375\n",
      "Epoch 87/400\n",
      "10/10 [==============================] - 0s 13ms/step - loss: 1.1052 - accuracy: 0.4980 - val_loss: 1.1284 - val_accuracy: 0.4938\n",
      "Epoch 88/400\n",
      "10/10 [==============================] - 0s 13ms/step - loss: 1.0972 - accuracy: 0.5207 - val_loss: 1.1296 - val_accuracy: 0.5000\n",
      "Epoch 89/400\n",
      "10/10 [==============================] - 0s 15ms/step - loss: 1.1011 - accuracy: 0.4941 - val_loss: 1.1203 - val_accuracy: 0.5125\n",
      "Epoch 90/400\n",
      "10/10 [==============================] - 0s 13ms/step - loss: 1.1106 - accuracy: 0.4918 - val_loss: 1.1228 - val_accuracy: 0.5125\n",
      "Epoch 91/400\n",
      "10/10 [==============================] - 0s 14ms/step - loss: 1.0964 - accuracy: 0.5035 - val_loss: 1.1168 - val_accuracy: 0.5063\n",
      "Epoch 92/400\n",
      "10/10 [==============================] - 0s 14ms/step - loss: 1.1068 - accuracy: 0.5020 - val_loss: 1.1203 - val_accuracy: 0.5250\n",
      "Epoch 93/400\n",
      "10/10 [==============================] - 0s 12ms/step - loss: 1.0906 - accuracy: 0.5090 - val_loss: 1.1726 - val_accuracy: 0.4500\n",
      "Epoch 94/400\n",
      "10/10 [==============================] - 0s 12ms/step - loss: 1.0999 - accuracy: 0.5152 - val_loss: 1.1124 - val_accuracy: 0.5063\n",
      "Epoch 95/400\n",
      "10/10 [==============================] - 0s 13ms/step - loss: 1.0937 - accuracy: 0.5043 - val_loss: 1.1099 - val_accuracy: 0.5188\n",
      "Epoch 96/400\n",
      "10/10 [==============================] - 0s 16ms/step - loss: 1.0997 - accuracy: 0.4934 - val_loss: 1.1245 - val_accuracy: 0.5000\n",
      "Epoch 97/400\n",
      "10/10 [==============================] - 0s 16ms/step - loss: 1.1041 - accuracy: 0.5090 - val_loss: 1.1171 - val_accuracy: 0.5125\n",
      "Epoch 98/400\n",
      "10/10 [==============================] - 0s 16ms/step - loss: 1.1027 - accuracy: 0.5066 - val_loss: 1.1522 - val_accuracy: 0.4437\n",
      "Epoch 99/400\n",
      "10/10 [==============================] - 0s 15ms/step - loss: 1.1077 - accuracy: 0.5004 - val_loss: 1.1111 - val_accuracy: 0.5063\n",
      "Epoch 100/400\n",
      "10/10 [==============================] - 0s 13ms/step - loss: 1.1024 - accuracy: 0.5082 - val_loss: 1.1469 - val_accuracy: 0.4750\n",
      "Epoch 101/400\n",
      "10/10 [==============================] - 0s 13ms/step - loss: 1.0990 - accuracy: 0.5043 - val_loss: 1.1094 - val_accuracy: 0.5250\n",
      "Epoch 102/400\n",
      "10/10 [==============================] - 0s 12ms/step - loss: 1.1211 - accuracy: 0.5113 - val_loss: 1.1111 - val_accuracy: 0.5312\n",
      "Epoch 103/400\n",
      "10/10 [==============================] - 0s 13ms/step - loss: 1.0893 - accuracy: 0.5074 - val_loss: 1.1130 - val_accuracy: 0.5125\n",
      "Epoch 104/400\n",
      "10/10 [==============================] - 0s 13ms/step - loss: 1.0938 - accuracy: 0.5059 - val_loss: 1.1687 - val_accuracy: 0.4375\n",
      "Epoch 105/400\n",
      "10/10 [==============================] - 0s 13ms/step - loss: 1.1052 - accuracy: 0.5074 - val_loss: 1.1105 - val_accuracy: 0.5312\n",
      "Epoch 106/400\n",
      "10/10 [==============================] - 0s 13ms/step - loss: 1.1116 - accuracy: 0.4996 - val_loss: 1.1142 - val_accuracy: 0.5063\n",
      "Epoch 107/400\n",
      "10/10 [==============================] - 0s 12ms/step - loss: 1.0936 - accuracy: 0.5160 - val_loss: 1.1082 - val_accuracy: 0.5375\n",
      "Epoch 108/400\n",
      "10/10 [==============================] - 0s 12ms/step - loss: 1.0891 - accuracy: 0.5168 - val_loss: 1.1103 - val_accuracy: 0.5000\n",
      "Epoch 109/400\n",
      "10/10 [==============================] - 0s 14ms/step - loss: 1.1021 - accuracy: 0.4980 - val_loss: 1.1406 - val_accuracy: 0.4812\n",
      "Epoch 110/400\n",
      "10/10 [==============================] - 0s 13ms/step - loss: 1.1008 - accuracy: 0.4824 - val_loss: 1.1072 - val_accuracy: 0.5125\n",
      "Epoch 111/400\n",
      "10/10 [==============================] - 0s 13ms/step - loss: 1.0909 - accuracy: 0.5121 - val_loss: 1.1111 - val_accuracy: 0.5250\n",
      "Epoch 112/400\n",
      "10/10 [==============================] - 0s 14ms/step - loss: 1.1000 - accuracy: 0.5184 - val_loss: 1.1104 - val_accuracy: 0.5188\n",
      "Epoch 113/400\n",
      "10/10 [==============================] - 0s 15ms/step - loss: 1.1027 - accuracy: 0.5035 - val_loss: 1.1006 - val_accuracy: 0.5375\n",
      "Epoch 114/400\n",
      "10/10 [==============================] - 0s 13ms/step - loss: 1.0895 - accuracy: 0.5270 - val_loss: 1.1013 - val_accuracy: 0.5063\n",
      "Epoch 115/400\n"
     ]
    },
    {
     "name": "stdout",
     "output_type": "stream",
     "text": [
      "10/10 [==============================] - 0s 12ms/step - loss: 1.0829 - accuracy: 0.5168 - val_loss: 1.1096 - val_accuracy: 0.5000\n",
      "Epoch 116/400\n",
      "10/10 [==============================] - 0s 14ms/step - loss: 1.0837 - accuracy: 0.5184 - val_loss: 1.1073 - val_accuracy: 0.5312\n",
      "Epoch 117/400\n",
      "10/10 [==============================] - 0s 15ms/step - loss: 1.0909 - accuracy: 0.5254 - val_loss: 1.2227 - val_accuracy: 0.4375\n",
      "Epoch 118/400\n",
      "10/10 [==============================] - 0s 17ms/step - loss: 1.1054 - accuracy: 0.5066 - val_loss: 1.1175 - val_accuracy: 0.4938\n",
      "Epoch 119/400\n",
      "10/10 [==============================] - 0s 14ms/step - loss: 1.0907 - accuracy: 0.5090 - val_loss: 1.1077 - val_accuracy: 0.5250\n",
      "Epoch 120/400\n",
      "10/10 [==============================] - 0s 21ms/step - loss: 1.1071 - accuracy: 0.5074 - val_loss: 1.1195 - val_accuracy: 0.5063\n",
      "Epoch 121/400\n",
      "10/10 [==============================] - 0s 18ms/step - loss: 1.0848 - accuracy: 0.5246 - val_loss: 1.1028 - val_accuracy: 0.5188\n",
      "Epoch 122/400\n",
      "10/10 [==============================] - 0s 15ms/step - loss: 1.0903 - accuracy: 0.5129 - val_loss: 1.1309 - val_accuracy: 0.4938\n",
      "Epoch 123/400\n",
      "10/10 [==============================] - 0s 17ms/step - loss: 1.0980 - accuracy: 0.5184 - val_loss: 1.1233 - val_accuracy: 0.5125\n",
      "Epoch 124/400\n",
      "10/10 [==============================] - 0s 17ms/step - loss: 1.0796 - accuracy: 0.5160 - val_loss: 1.1097 - val_accuracy: 0.5312\n",
      "Epoch 125/400\n",
      "10/10 [==============================] - 0s 15ms/step - loss: 1.0827 - accuracy: 0.5176 - val_loss: 1.1964 - val_accuracy: 0.4688\n",
      "Epoch 126/400\n",
      "10/10 [==============================] - 0s 15ms/step - loss: 1.1126 - accuracy: 0.5051 - val_loss: 1.1010 - val_accuracy: 0.5500\n",
      "Epoch 127/400\n",
      "10/10 [==============================] - 0s 15ms/step - loss: 1.1076 - accuracy: 0.4918 - val_loss: 1.1041 - val_accuracy: 0.5250\n",
      "Epoch 128/400\n",
      "10/10 [==============================] - 0s 14ms/step - loss: 1.0891 - accuracy: 0.5012 - val_loss: 1.1196 - val_accuracy: 0.4938\n",
      "Epoch 129/400\n",
      "10/10 [==============================] - 0s 19ms/step - loss: 1.0910 - accuracy: 0.5051 - val_loss: 1.1083 - val_accuracy: 0.5063\n",
      "Epoch 130/400\n",
      "10/10 [==============================] - 0s 20ms/step - loss: 1.0791 - accuracy: 0.5168 - val_loss: 1.1047 - val_accuracy: 0.5000\n",
      "Epoch 131/400\n",
      "10/10 [==============================] - 0s 21ms/step - loss: 1.0814 - accuracy: 0.5168 - val_loss: 1.1057 - val_accuracy: 0.5250\n",
      "Epoch 132/400\n",
      "10/10 [==============================] - 0s 19ms/step - loss: 1.0860 - accuracy: 0.5129 - val_loss: 1.1106 - val_accuracy: 0.5437\n",
      "Epoch 133/400\n",
      "10/10 [==============================] - 0s 30ms/step - loss: 1.1072 - accuracy: 0.4973 - val_loss: 1.1164 - val_accuracy: 0.4750\n",
      "Epoch 134/400\n",
      "10/10 [==============================] - 0s 20ms/step - loss: 1.0992 - accuracy: 0.5184 - val_loss: 1.1140 - val_accuracy: 0.5000\n",
      "Epoch 135/400\n",
      "10/10 [==============================] - 0s 20ms/step - loss: 1.0850 - accuracy: 0.5207 - val_loss: 1.0941 - val_accuracy: 0.5437\n",
      "Epoch 136/400\n",
      "10/10 [==============================] - 0s 22ms/step - loss: 1.0758 - accuracy: 0.5113 - val_loss: 1.1065 - val_accuracy: 0.5063\n",
      "Epoch 137/400\n",
      "10/10 [==============================] - 0s 18ms/step - loss: 1.0684 - accuracy: 0.5262 - val_loss: 1.1025 - val_accuracy: 0.5063\n",
      "Epoch 138/400\n",
      "10/10 [==============================] - 0s 20ms/step - loss: 1.1030 - accuracy: 0.4965 - val_loss: 1.1124 - val_accuracy: 0.5125\n",
      "Epoch 139/400\n",
      "10/10 [==============================] - 0s 18ms/step - loss: 1.0797 - accuracy: 0.5238 - val_loss: 1.0951 - val_accuracy: 0.5437\n",
      "Epoch 140/400\n",
      "10/10 [==============================] - 0s 19ms/step - loss: 1.0874 - accuracy: 0.5246 - val_loss: 1.1396 - val_accuracy: 0.5063\n",
      "Epoch 141/400\n",
      "10/10 [==============================] - 0s 20ms/step - loss: 1.0866 - accuracy: 0.5340 - val_loss: 1.1226 - val_accuracy: 0.5063\n",
      "Epoch 142/400\n",
      "10/10 [==============================] - 0s 19ms/step - loss: 1.0870 - accuracy: 0.5121 - val_loss: 1.1081 - val_accuracy: 0.4938\n",
      "Epoch 143/400\n",
      "10/10 [==============================] - 0s 19ms/step - loss: 1.0960 - accuracy: 0.5090 - val_loss: 1.0988 - val_accuracy: 0.5125\n",
      "Epoch 144/400\n",
      "10/10 [==============================] - 0s 16ms/step - loss: 1.0792 - accuracy: 0.5238 - val_loss: 1.0998 - val_accuracy: 0.5188\n",
      "Epoch 145/400\n",
      "10/10 [==============================] - 0s 15ms/step - loss: 1.0867 - accuracy: 0.5152 - val_loss: 1.0986 - val_accuracy: 0.5188\n",
      "Epoch 146/400\n",
      "10/10 [==============================] - 0s 15ms/step - loss: 1.0871 - accuracy: 0.5035 - val_loss: 1.1036 - val_accuracy: 0.5000\n",
      "Epoch 147/400\n",
      "10/10 [==============================] - 0s 13ms/step - loss: 1.0662 - accuracy: 0.5364 - val_loss: 1.1048 - val_accuracy: 0.4938\n",
      "Epoch 148/400\n",
      "10/10 [==============================] - 0s 19ms/step - loss: 1.0935 - accuracy: 0.5152 - val_loss: 1.0967 - val_accuracy: 0.5000\n",
      "Epoch 149/400\n",
      "10/10 [==============================] - 0s 16ms/step - loss: 1.0879 - accuracy: 0.5418 - val_loss: 1.0902 - val_accuracy: 0.5312\n",
      "Epoch 150/400\n",
      "10/10 [==============================] - 0s 12ms/step - loss: 1.0779 - accuracy: 0.5450 - val_loss: 1.0900 - val_accuracy: 0.5063\n",
      "Epoch 151/400\n",
      "10/10 [==============================] - 0s 16ms/step - loss: 1.0963 - accuracy: 0.5090 - val_loss: 1.1201 - val_accuracy: 0.4938\n",
      "Epoch 152/400\n",
      "10/10 [==============================] - 0s 14ms/step - loss: 1.0908 - accuracy: 0.5106 - val_loss: 1.0945 - val_accuracy: 0.5562\n",
      "Epoch 153/400\n",
      "10/10 [==============================] - 0s 14ms/step - loss: 1.0956 - accuracy: 0.5238 - val_loss: 1.1017 - val_accuracy: 0.5125\n",
      "Epoch 154/400\n",
      "10/10 [==============================] - 0s 15ms/step - loss: 1.0721 - accuracy: 0.5340 - val_loss: 1.0939 - val_accuracy: 0.5437\n",
      "Epoch 155/400\n",
      "10/10 [==============================] - 0s 14ms/step - loss: 1.0700 - accuracy: 0.5090 - val_loss: 1.1311 - val_accuracy: 0.4750\n",
      "Epoch 156/400\n",
      "10/10 [==============================] - 0s 13ms/step - loss: 1.0871 - accuracy: 0.4910 - val_loss: 1.1188 - val_accuracy: 0.4875\n",
      "Epoch 157/400\n",
      "10/10 [==============================] - 0s 14ms/step - loss: 1.1003 - accuracy: 0.5145 - val_loss: 1.0941 - val_accuracy: 0.5562\n",
      "Epoch 158/400\n",
      "10/10 [==============================] - 0s 13ms/step - loss: 1.0820 - accuracy: 0.5254 - val_loss: 1.1212 - val_accuracy: 0.5250\n",
      "Epoch 159/400\n",
      "10/10 [==============================] - 0s 14ms/step - loss: 1.0655 - accuracy: 0.5465 - val_loss: 1.0970 - val_accuracy: 0.5125\n",
      "Epoch 160/400\n",
      "10/10 [==============================] - 0s 14ms/step - loss: 1.0891 - accuracy: 0.5106 - val_loss: 1.0855 - val_accuracy: 0.5312\n",
      "Epoch 161/400\n",
      "10/10 [==============================] - 0s 14ms/step - loss: 1.0675 - accuracy: 0.5223 - val_loss: 1.1855 - val_accuracy: 0.4187\n",
      "Epoch 162/400\n",
      "10/10 [==============================] - 0s 14ms/step - loss: 1.0906 - accuracy: 0.5309 - val_loss: 1.1119 - val_accuracy: 0.5063\n",
      "Epoch 163/400\n",
      "10/10 [==============================] - 0s 16ms/step - loss: 1.0734 - accuracy: 0.5543 - val_loss: 1.1394 - val_accuracy: 0.4812\n",
      "Epoch 164/400\n",
      "10/10 [==============================] - 0s 14ms/step - loss: 1.0932 - accuracy: 0.5059 - val_loss: 1.1105 - val_accuracy: 0.5437\n",
      "Epoch 165/400\n",
      "10/10 [==============================] - 0s 14ms/step - loss: 1.0837 - accuracy: 0.5262 - val_loss: 1.0946 - val_accuracy: 0.5000\n",
      "Epoch 166/400\n",
      "10/10 [==============================] - 0s 13ms/step - loss: 1.0783 - accuracy: 0.5270 - val_loss: 1.1006 - val_accuracy: 0.4938\n",
      "Epoch 167/400\n",
      "10/10 [==============================] - 0s 20ms/step - loss: 1.0710 - accuracy: 0.5348 - val_loss: 1.0943 - val_accuracy: 0.5250\n",
      "Epoch 168/400\n",
      "10/10 [==============================] - 0s 16ms/step - loss: 1.0950 - accuracy: 0.5254 - val_loss: 1.0866 - val_accuracy: 0.5375\n",
      "Epoch 169/400\n",
      "10/10 [==============================] - 0s 16ms/step - loss: 1.0604 - accuracy: 0.5434 - val_loss: 1.0908 - val_accuracy: 0.5000\n",
      "Epoch 170/400\n",
      "10/10 [==============================] - 0s 14ms/step - loss: 1.0673 - accuracy: 0.4965 - val_loss: 1.1350 - val_accuracy: 0.4812\n",
      "Epoch 171/400\n",
      "10/10 [==============================] - 0s 17ms/step - loss: 1.0737 - accuracy: 0.5238 - val_loss: 1.0770 - val_accuracy: 0.5500\n"
     ]
    },
    {
     "name": "stdout",
     "output_type": "stream",
     "text": [
      "Epoch 172/400\n",
      "10/10 [==============================] - 0s 17ms/step - loss: 1.0919 - accuracy: 0.5199 - val_loss: 1.0944 - val_accuracy: 0.5063\n",
      "Epoch 173/400\n",
      "10/10 [==============================] - 0s 12ms/step - loss: 1.0757 - accuracy: 0.5090 - val_loss: 1.0994 - val_accuracy: 0.5125\n",
      "Epoch 174/400\n",
      "10/10 [==============================] - 0s 11ms/step - loss: 1.0821 - accuracy: 0.5184 - val_loss: 1.1045 - val_accuracy: 0.5188\n",
      "Epoch 175/400\n",
      "10/10 [==============================] - 0s 19ms/step - loss: 1.0622 - accuracy: 0.5215 - val_loss: 1.1232 - val_accuracy: 0.5125\n",
      "Epoch 176/400\n",
      "10/10 [==============================] - 0s 14ms/step - loss: 1.0792 - accuracy: 0.5262 - val_loss: 1.1013 - val_accuracy: 0.5063\n",
      "Epoch 177/400\n",
      "10/10 [==============================] - 0s 22ms/step - loss: 1.1018 - accuracy: 0.4957 - val_loss: 1.0937 - val_accuracy: 0.5562\n",
      "Epoch 178/400\n",
      "10/10 [==============================] - 0s 14ms/step - loss: 1.0613 - accuracy: 0.5364 - val_loss: 1.1283 - val_accuracy: 0.4375\n",
      "Epoch 179/400\n",
      "10/10 [==============================] - 0s 11ms/step - loss: 1.1203 - accuracy: 0.4957 - val_loss: 1.0929 - val_accuracy: 0.5625\n",
      "Epoch 180/400\n",
      "10/10 [==============================] - 0s 10ms/step - loss: 1.0666 - accuracy: 0.5199 - val_loss: 1.0808 - val_accuracy: 0.5312\n",
      "Epoch 181/400\n",
      "10/10 [==============================] - 0s 9ms/step - loss: 1.0736 - accuracy: 0.5324 - val_loss: 1.1577 - val_accuracy: 0.5375\n",
      "Epoch 182/400\n",
      "10/10 [==============================] - 0s 11ms/step - loss: 1.0711 - accuracy: 0.5309 - val_loss: 1.1000 - val_accuracy: 0.5063\n",
      "Epoch 183/400\n",
      "10/10 [==============================] - 0s 11ms/step - loss: 1.1122 - accuracy: 0.5457 - val_loss: 1.0885 - val_accuracy: 0.5312\n",
      "Epoch 184/400\n",
      "10/10 [==============================] - 0s 12ms/step - loss: 1.0533 - accuracy: 0.5504 - val_loss: 1.1249 - val_accuracy: 0.5188\n",
      "Epoch 185/400\n",
      "10/10 [==============================] - 0s 11ms/step - loss: 1.0673 - accuracy: 0.5168 - val_loss: 1.0855 - val_accuracy: 0.5250\n",
      "Epoch 186/400\n",
      "10/10 [==============================] - 0s 11ms/step - loss: 1.0846 - accuracy: 0.5262 - val_loss: 1.0809 - val_accuracy: 0.5750\n",
      "Epoch 187/400\n",
      "10/10 [==============================] - 0s 16ms/step - loss: 1.0603 - accuracy: 0.5254 - val_loss: 1.0927 - val_accuracy: 0.5500\n",
      "Epoch 188/400\n",
      "10/10 [==============================] - 0s 11ms/step - loss: 1.0589 - accuracy: 0.5246 - val_loss: 1.1324 - val_accuracy: 0.4500\n",
      "Epoch 189/400\n",
      "10/10 [==============================] - 0s 9ms/step - loss: 1.0670 - accuracy: 0.5309 - val_loss: 1.1334 - val_accuracy: 0.5312\n",
      "Epoch 190/400\n",
      "10/10 [==============================] - 0s 11ms/step - loss: 1.0559 - accuracy: 0.5371 - val_loss: 1.1005 - val_accuracy: 0.5437\n",
      "Epoch 191/400\n",
      "10/10 [==============================] - 0s 11ms/step - loss: 1.0794 - accuracy: 0.5278 - val_loss: 1.0966 - val_accuracy: 0.5125\n",
      "Epoch 192/400\n",
      "10/10 [==============================] - 0s 10ms/step - loss: 1.0845 - accuracy: 0.5176 - val_loss: 1.2191 - val_accuracy: 0.5000\n",
      "Epoch 193/400\n",
      "10/10 [==============================] - 0s 11ms/step - loss: 1.0931 - accuracy: 0.5129 - val_loss: 1.1044 - val_accuracy: 0.5125\n",
      "Epoch 194/400\n",
      "10/10 [==============================] - 0s 11ms/step - loss: 1.0868 - accuracy: 0.5207 - val_loss: 1.1066 - val_accuracy: 0.5000\n",
      "Epoch 195/400\n",
      "10/10 [==============================] - 0s 11ms/step - loss: 1.0808 - accuracy: 0.5121 - val_loss: 1.1941 - val_accuracy: 0.4500\n",
      "Epoch 196/400\n",
      "10/10 [==============================] - 0s 9ms/step - loss: 1.0611 - accuracy: 0.5356 - val_loss: 1.0821 - val_accuracy: 0.5125\n",
      "Epoch 197/400\n",
      "10/10 [==============================] - 0s 11ms/step - loss: 1.0649 - accuracy: 0.5270 - val_loss: 1.0999 - val_accuracy: 0.5063\n",
      "Epoch 198/400\n",
      "10/10 [==============================] - 0s 12ms/step - loss: 1.0539 - accuracy: 0.5504 - val_loss: 1.0924 - val_accuracy: 0.5375\n",
      "Epoch 199/400\n",
      "10/10 [==============================] - 0s 12ms/step - loss: 1.0880 - accuracy: 0.5207 - val_loss: 1.1128 - val_accuracy: 0.4938\n",
      "Epoch 200/400\n",
      "10/10 [==============================] - 0s 12ms/step - loss: 1.0803 - accuracy: 0.5035 - val_loss: 1.0747 - val_accuracy: 0.5562\n",
      "Epoch 201/400\n",
      "10/10 [==============================] - 0s 12ms/step - loss: 1.0553 - accuracy: 0.5340 - val_loss: 1.0804 - val_accuracy: 0.5125\n",
      "Epoch 202/400\n",
      "10/10 [==============================] - 0s 14ms/step - loss: 1.0602 - accuracy: 0.5364 - val_loss: 1.0839 - val_accuracy: 0.5188\n",
      "Epoch 203/400\n",
      "10/10 [==============================] - 0s 24ms/step - loss: 1.0775 - accuracy: 0.5207 - val_loss: 1.0779 - val_accuracy: 0.5375\n",
      "Epoch 204/400\n",
      "10/10 [==============================] - 0s 20ms/step - loss: 1.0624 - accuracy: 0.5270 - val_loss: 1.1523 - val_accuracy: 0.4875\n",
      "Epoch 205/400\n",
      "10/10 [==============================] - 0s 24ms/step - loss: 1.0911 - accuracy: 0.5051 - val_loss: 1.0999 - val_accuracy: 0.5125\n",
      "Epoch 206/400\n",
      "10/10 [==============================] - 0s 22ms/step - loss: 1.0626 - accuracy: 0.5387 - val_loss: 1.1738 - val_accuracy: 0.4812\n",
      "Epoch 207/400\n",
      "10/10 [==============================] - 0s 24ms/step - loss: 1.0673 - accuracy: 0.5512 - val_loss: 1.1336 - val_accuracy: 0.4938\n",
      "Epoch 208/400\n",
      "10/10 [==============================] - 0s 22ms/step - loss: 1.0757 - accuracy: 0.5332 - val_loss: 1.1847 - val_accuracy: 0.4563\n",
      "Epoch 209/400\n",
      "10/10 [==============================] - 0s 25ms/step - loss: 1.0771 - accuracy: 0.5012 - val_loss: 1.1005 - val_accuracy: 0.5312\n",
      "Epoch 210/400\n",
      "10/10 [==============================] - 0s 22ms/step - loss: 1.0785 - accuracy: 0.5004 - val_loss: 1.0844 - val_accuracy: 0.5250\n",
      "Epoch 211/400\n",
      "10/10 [==============================] - 0s 25ms/step - loss: 1.0929 - accuracy: 0.4957 - val_loss: 1.0912 - val_accuracy: 0.5500\n",
      "Epoch 212/400\n",
      "10/10 [==============================] - 0s 23ms/step - loss: 1.0412 - accuracy: 0.5496 - val_loss: 1.1640 - val_accuracy: 0.4313\n",
      "Epoch 213/400\n",
      "10/10 [==============================] - 0s 24ms/step - loss: 1.0724 - accuracy: 0.5364 - val_loss: 1.0903 - val_accuracy: 0.5188\n",
      "Epoch 214/400\n",
      "10/10 [==============================] - 0s 19ms/step - loss: 1.0641 - accuracy: 0.5278 - val_loss: 1.1155 - val_accuracy: 0.5063\n",
      "Epoch 215/400\n",
      "10/10 [==============================] - 0s 24ms/step - loss: 1.0897 - accuracy: 0.5426 - val_loss: 1.0882 - val_accuracy: 0.5250\n",
      "Epoch 216/400\n",
      "10/10 [==============================] - 0s 22ms/step - loss: 1.0477 - accuracy: 0.5465 - val_loss: 1.0681 - val_accuracy: 0.5625\n",
      "Epoch 217/400\n",
      "10/10 [==============================] - 0s 25ms/step - loss: 1.0719 - accuracy: 0.5231 - val_loss: 1.1799 - val_accuracy: 0.4812\n",
      "Epoch 218/400\n",
      "10/10 [==============================] - 0s 23ms/step - loss: 1.0847 - accuracy: 0.5176 - val_loss: 1.0763 - val_accuracy: 0.5437\n",
      "Epoch 219/400\n",
      "10/10 [==============================] - 0s 15ms/step - loss: 1.0489 - accuracy: 0.5364 - val_loss: 1.0733 - val_accuracy: 0.5312\n",
      "Epoch 220/400\n",
      "10/10 [==============================] - 0s 15ms/step - loss: 1.1005 - accuracy: 0.5168 - val_loss: 1.0832 - val_accuracy: 0.5063\n",
      "Epoch 221/400\n",
      "10/10 [==============================] - 0s 14ms/step - loss: 1.0579 - accuracy: 0.5387 - val_loss: 1.1094 - val_accuracy: 0.5125\n",
      "Epoch 222/400\n",
      "10/10 [==============================] - 0s 15ms/step - loss: 1.0519 - accuracy: 0.5496 - val_loss: 1.0932 - val_accuracy: 0.5250\n",
      "Epoch 223/400\n",
      "10/10 [==============================] - 0s 14ms/step - loss: 1.0749 - accuracy: 0.5473 - val_loss: 1.0605 - val_accuracy: 0.5625\n",
      "Epoch 224/400\n",
      "10/10 [==============================] - 0s 16ms/step - loss: 1.0594 - accuracy: 0.5434 - val_loss: 1.0927 - val_accuracy: 0.5312\n",
      "Epoch 225/400\n",
      "10/10 [==============================] - 0s 20ms/step - loss: 1.0641 - accuracy: 0.5223 - val_loss: 1.0757 - val_accuracy: 0.5250\n",
      "Epoch 226/400\n",
      "10/10 [==============================] - 0s 22ms/step - loss: 1.0505 - accuracy: 0.5426 - val_loss: 1.0994 - val_accuracy: 0.5125\n",
      "Epoch 227/400\n",
      "10/10 [==============================] - 0s 21ms/step - loss: 1.0807 - accuracy: 0.5121 - val_loss: 1.0736 - val_accuracy: 0.5312\n",
      "Epoch 228/400\n",
      "10/10 [==============================] - 0s 21ms/step - loss: 1.0440 - accuracy: 0.5403 - val_loss: 1.0631 - val_accuracy: 0.5562\n"
     ]
    },
    {
     "name": "stdout",
     "output_type": "stream",
     "text": [
      "Epoch 229/400\n",
      "10/10 [==============================] - 0s 18ms/step - loss: 1.0429 - accuracy: 0.5465 - val_loss: 1.0748 - val_accuracy: 0.5063\n",
      "Epoch 230/400\n",
      "10/10 [==============================] - 0s 21ms/step - loss: 1.0646 - accuracy: 0.5332 - val_loss: 1.1017 - val_accuracy: 0.4875\n",
      "Epoch 231/400\n",
      "10/10 [==============================] - 0s 19ms/step - loss: 1.0933 - accuracy: 0.5270 - val_loss: 1.0968 - val_accuracy: 0.5000\n",
      "Epoch 232/400\n",
      "10/10 [==============================] - 0s 17ms/step - loss: 1.0547 - accuracy: 0.5192 - val_loss: 1.0730 - val_accuracy: 0.5125\n",
      "Epoch 233/400\n",
      "10/10 [==============================] - 0s 18ms/step - loss: 1.0436 - accuracy: 0.5543 - val_loss: 1.1721 - val_accuracy: 0.4313\n",
      "Epoch 234/400\n",
      "10/10 [==============================] - 0s 17ms/step - loss: 1.0700 - accuracy: 0.5246 - val_loss: 1.1082 - val_accuracy: 0.5000\n",
      "Epoch 235/400\n",
      "10/10 [==============================] - 0s 18ms/step - loss: 1.0560 - accuracy: 0.5278 - val_loss: 1.0986 - val_accuracy: 0.5000\n",
      "Epoch 236/400\n",
      "10/10 [==============================] - 0s 20ms/step - loss: 1.0663 - accuracy: 0.5340 - val_loss: 1.0693 - val_accuracy: 0.5125\n",
      "Epoch 237/400\n",
      "10/10 [==============================] - 0s 22ms/step - loss: 1.0600 - accuracy: 0.5309 - val_loss: 1.0834 - val_accuracy: 0.5063\n",
      "Epoch 238/400\n",
      "10/10 [==============================] - 0s 17ms/step - loss: 1.0578 - accuracy: 0.5442 - val_loss: 1.1083 - val_accuracy: 0.5125\n",
      "Epoch 239/400\n",
      "10/10 [==============================] - 0s 18ms/step - loss: 1.0595 - accuracy: 0.5246 - val_loss: 1.2719 - val_accuracy: 0.4437\n",
      "Epoch 240/400\n",
      "10/10 [==============================] - 0s 19ms/step - loss: 1.0597 - accuracy: 0.5278 - val_loss: 1.0631 - val_accuracy: 0.5312\n",
      "Epoch 241/400\n",
      "10/10 [==============================] - 0s 19ms/step - loss: 1.0349 - accuracy: 0.5465 - val_loss: 1.1163 - val_accuracy: 0.5125\n",
      "Epoch 242/400\n",
      "10/10 [==============================] - 0s 20ms/step - loss: 1.0864 - accuracy: 0.5129 - val_loss: 1.0708 - val_accuracy: 0.5312\n",
      "Epoch 243/400\n",
      "10/10 [==============================] - 0s 16ms/step - loss: 1.0307 - accuracy: 0.5543 - val_loss: 1.0659 - val_accuracy: 0.5250\n",
      "Epoch 244/400\n",
      "10/10 [==============================] - 0s 19ms/step - loss: 1.0761 - accuracy: 0.5145 - val_loss: 1.0792 - val_accuracy: 0.5813\n",
      "Epoch 245/400\n",
      "10/10 [==============================] - 0s 15ms/step - loss: 1.0528 - accuracy: 0.5317 - val_loss: 1.0882 - val_accuracy: 0.5250\n",
      "Epoch 246/400\n",
      "10/10 [==============================] - 0s 19ms/step - loss: 1.0389 - accuracy: 0.5512 - val_loss: 1.0630 - val_accuracy: 0.5125\n",
      "Epoch 247/400\n",
      "10/10 [==============================] - 0s 15ms/step - loss: 1.0301 - accuracy: 0.5473 - val_loss: 1.0932 - val_accuracy: 0.5188\n",
      "Epoch 248/400\n",
      "10/10 [==============================] - 0s 16ms/step - loss: 1.0636 - accuracy: 0.5426 - val_loss: 1.0648 - val_accuracy: 0.5500\n",
      "Epoch 249/400\n",
      "10/10 [==============================] - 0s 18ms/step - loss: 1.0518 - accuracy: 0.5317 - val_loss: 1.1587 - val_accuracy: 0.5063\n",
      "Epoch 250/400\n",
      "10/10 [==============================] - 0s 16ms/step - loss: 1.0556 - accuracy: 0.5387 - val_loss: 1.0910 - val_accuracy: 0.5312\n",
      "Epoch 251/400\n",
      "10/10 [==============================] - 0s 17ms/step - loss: 1.0498 - accuracy: 0.5543 - val_loss: 1.0770 - val_accuracy: 0.5188\n",
      "Epoch 252/400\n",
      "10/10 [==============================] - 0s 17ms/step - loss: 1.0448 - accuracy: 0.5403 - val_loss: 1.0570 - val_accuracy: 0.5375\n",
      "Epoch 253/400\n",
      "10/10 [==============================] - 0s 15ms/step - loss: 1.0700 - accuracy: 0.5262 - val_loss: 1.0875 - val_accuracy: 0.5125\n",
      "Epoch 254/400\n",
      "10/10 [==============================] - 0s 17ms/step - loss: 1.0285 - accuracy: 0.5379 - val_loss: 1.0681 - val_accuracy: 0.5188\n",
      "Epoch 255/400\n",
      "10/10 [==============================] - 0s 16ms/step - loss: 1.0932 - accuracy: 0.5137 - val_loss: 1.0609 - val_accuracy: 0.5375\n",
      "Epoch 256/400\n",
      "10/10 [==============================] - 0s 16ms/step - loss: 1.0371 - accuracy: 0.5403 - val_loss: 1.1135 - val_accuracy: 0.4938\n",
      "Epoch 257/400\n",
      "10/10 [==============================] - 0s 16ms/step - loss: 1.0665 - accuracy: 0.5403 - val_loss: 1.2035 - val_accuracy: 0.4500\n",
      "Epoch 258/400\n",
      "10/10 [==============================] - 0s 15ms/step - loss: 1.0800 - accuracy: 0.5192 - val_loss: 1.0979 - val_accuracy: 0.5188\n",
      "Epoch 259/400\n",
      "10/10 [==============================] - 0s 17ms/step - loss: 1.0704 - accuracy: 0.5168 - val_loss: 1.1029 - val_accuracy: 0.5375\n",
      "Epoch 260/400\n",
      "10/10 [==============================] - 0s 17ms/step - loss: 1.0278 - accuracy: 0.5410 - val_loss: 1.0608 - val_accuracy: 0.5250\n",
      "Epoch 261/400\n",
      "10/10 [==============================] - 0s 18ms/step - loss: 1.0406 - accuracy: 0.5387 - val_loss: 1.0767 - val_accuracy: 0.5063\n",
      "Epoch 262/400\n",
      "10/10 [==============================] - 0s 15ms/step - loss: 1.0719 - accuracy: 0.5278 - val_loss: 1.0959 - val_accuracy: 0.5250\n",
      "Epoch 263/400\n",
      "10/10 [==============================] - 0s 15ms/step - loss: 1.0598 - accuracy: 0.5434 - val_loss: 1.0688 - val_accuracy: 0.5250\n",
      "Epoch 264/400\n",
      "10/10 [==============================] - 0s 16ms/step - loss: 1.0942 - accuracy: 0.5012 - val_loss: 1.0831 - val_accuracy: 0.5250\n",
      "Epoch 265/400\n",
      "10/10 [==============================] - 0s 17ms/step - loss: 1.0341 - accuracy: 0.5536 - val_loss: 1.0691 - val_accuracy: 0.5437\n",
      "Epoch 266/400\n",
      "10/10 [==============================] - 0s 17ms/step - loss: 1.0441 - accuracy: 0.5364 - val_loss: 1.0848 - val_accuracy: 0.5063\n",
      "Epoch 267/400\n",
      "10/10 [==============================] - 0s 20ms/step - loss: 1.0813 - accuracy: 0.5238 - val_loss: 1.1657 - val_accuracy: 0.4875\n",
      "Epoch 268/400\n",
      "10/10 [==============================] - 0s 20ms/step - loss: 1.0458 - accuracy: 0.5496 - val_loss: 1.0755 - val_accuracy: 0.5375\n",
      "Epoch 269/400\n",
      "10/10 [==============================] - 0s 15ms/step - loss: 1.0304 - accuracy: 0.5614 - val_loss: 1.1410 - val_accuracy: 0.5312\n",
      "Epoch 270/400\n",
      "10/10 [==============================] - 0s 16ms/step - loss: 1.0679 - accuracy: 0.5575 - val_loss: 1.0754 - val_accuracy: 0.5688\n",
      "Epoch 271/400\n",
      "10/10 [==============================] - 0s 16ms/step - loss: 1.0348 - accuracy: 0.5356 - val_loss: 1.0667 - val_accuracy: 0.5437\n",
      "Epoch 272/400\n",
      "10/10 [==============================] - 0s 14ms/step - loss: 1.0683 - accuracy: 0.5137 - val_loss: 1.0850 - val_accuracy: 0.5250\n",
      "Epoch 273/400\n",
      "10/10 [==============================] - 0s 12ms/step - loss: 1.0384 - accuracy: 0.5434 - val_loss: 1.1331 - val_accuracy: 0.5125\n",
      "Epoch 274/400\n",
      "10/10 [==============================] - 0s 12ms/step - loss: 1.0429 - accuracy: 0.5473 - val_loss: 1.0536 - val_accuracy: 0.5437\n",
      "Epoch 275/400\n",
      "10/10 [==============================] - 0s 11ms/step - loss: 1.0780 - accuracy: 0.5332 - val_loss: 1.0604 - val_accuracy: 0.5625\n",
      "Epoch 276/400\n",
      "10/10 [==============================] - 0s 14ms/step - loss: 1.0484 - accuracy: 0.5434 - val_loss: 1.0750 - val_accuracy: 0.5375\n",
      "Epoch 277/400\n",
      "10/10 [==============================] - 0s 14ms/step - loss: 1.0499 - accuracy: 0.5074 - val_loss: 1.1833 - val_accuracy: 0.4812\n",
      "Epoch 278/400\n",
      "10/10 [==============================] - 0s 11ms/step - loss: 1.0377 - accuracy: 0.5379 - val_loss: 1.0825 - val_accuracy: 0.5188\n",
      "Epoch 279/400\n",
      "10/10 [==============================] - 0s 13ms/step - loss: 1.0419 - accuracy: 0.5309 - val_loss: 1.0602 - val_accuracy: 0.5188\n",
      "Epoch 280/400\n",
      "10/10 [==============================] - 0s 12ms/step - loss: 1.0393 - accuracy: 0.5457 - val_loss: 1.0546 - val_accuracy: 0.5437\n",
      "Epoch 281/400\n",
      "10/10 [==============================] - 0s 13ms/step - loss: 1.0466 - accuracy: 0.5410 - val_loss: 1.0861 - val_accuracy: 0.5125\n",
      "Epoch 282/400\n",
      "10/10 [==============================] - 0s 13ms/step - loss: 1.0612 - accuracy: 0.5426 - val_loss: 1.0740 - val_accuracy: 0.5312\n",
      "Epoch 283/400\n",
      "10/10 [==============================] - 0s 17ms/step - loss: 1.0174 - accuracy: 0.5559 - val_loss: 1.0658 - val_accuracy: 0.5125\n",
      "Epoch 284/400\n",
      "10/10 [==============================] - 0s 15ms/step - loss: 1.0426 - accuracy: 0.5340 - val_loss: 1.0837 - val_accuracy: 0.5063\n",
      "Epoch 285/400\n",
      "10/10 [==============================] - 0s 11ms/step - loss: 1.0537 - accuracy: 0.5418 - val_loss: 1.1196 - val_accuracy: 0.5000\n"
     ]
    },
    {
     "name": "stdout",
     "output_type": "stream",
     "text": [
      "Epoch 286/400\n",
      "10/10 [==============================] - 0s 18ms/step - loss: 1.0553 - accuracy: 0.5168 - val_loss: 1.0715 - val_accuracy: 0.5250\n",
      "Epoch 287/400\n",
      "10/10 [==============================] - 0s 21ms/step - loss: 1.0286 - accuracy: 0.5512 - val_loss: 1.1907 - val_accuracy: 0.4563\n",
      "Epoch 288/400\n",
      "10/10 [==============================] - 0s 13ms/step - loss: 1.0603 - accuracy: 0.5426 - val_loss: 1.0716 - val_accuracy: 0.5125\n",
      "Epoch 289/400\n",
      "10/10 [==============================] - 0s 12ms/step - loss: 1.0718 - accuracy: 0.5215 - val_loss: 1.0602 - val_accuracy: 0.5437\n",
      "Epoch 290/400\n",
      "10/10 [==============================] - 0s 12ms/step - loss: 1.0199 - accuracy: 0.5536 - val_loss: 1.0576 - val_accuracy: 0.5312\n",
      "Epoch 291/400\n",
      "10/10 [==============================] - 0s 12ms/step - loss: 1.0154 - accuracy: 0.5637 - val_loss: 1.1030 - val_accuracy: 0.5188\n",
      "Epoch 292/400\n",
      "10/10 [==============================] - 0s 15ms/step - loss: 1.0774 - accuracy: 0.5364 - val_loss: 1.0722 - val_accuracy: 0.5000\n",
      "Epoch 293/400\n",
      "10/10 [==============================] - 0s 14ms/step - loss: 1.0704 - accuracy: 0.5293 - val_loss: 1.0546 - val_accuracy: 0.5375\n",
      "Epoch 294/400\n",
      "10/10 [==============================] - 0s 14ms/step - loss: 1.0179 - accuracy: 0.5614 - val_loss: 1.0677 - val_accuracy: 0.5188\n",
      "Epoch 295/400\n",
      "10/10 [==============================] - 0s 16ms/step - loss: 1.0836 - accuracy: 0.5387 - val_loss: 1.1233 - val_accuracy: 0.4812\n",
      "Epoch 296/400\n",
      "10/10 [==============================] - 0s 13ms/step - loss: 1.0452 - accuracy: 0.5395 - val_loss: 1.1326 - val_accuracy: 0.4688\n",
      "Epoch 297/400\n",
      "10/10 [==============================] - 0s 13ms/step - loss: 1.0393 - accuracy: 0.5301 - val_loss: 1.0791 - val_accuracy: 0.5125\n",
      "Epoch 298/400\n",
      "10/10 [==============================] - 0s 14ms/step - loss: 1.0295 - accuracy: 0.5551 - val_loss: 1.2833 - val_accuracy: 0.4375\n",
      "Epoch 299/400\n",
      "10/10 [==============================] - 0s 14ms/step - loss: 1.0479 - accuracy: 0.5332 - val_loss: 1.0744 - val_accuracy: 0.5188\n",
      "Epoch 300/400\n",
      "10/10 [==============================] - 0s 16ms/step - loss: 1.0081 - accuracy: 0.5676 - val_loss: 1.0569 - val_accuracy: 0.5437\n",
      "Epoch 301/400\n",
      "10/10 [==============================] - 0s 19ms/step - loss: 1.0551 - accuracy: 0.5348 - val_loss: 1.0837 - val_accuracy: 0.4938\n",
      "Epoch 302/400\n",
      "10/10 [==============================] - 0s 19ms/step - loss: 1.0514 - accuracy: 0.5207 - val_loss: 1.0666 - val_accuracy: 0.5063\n",
      "Epoch 303/400\n",
      "10/10 [==============================] - 0s 18ms/step - loss: 1.0459 - accuracy: 0.5207 - val_loss: 1.1706 - val_accuracy: 0.4750\n",
      "Epoch 304/400\n",
      "10/10 [==============================] - 0s 17ms/step - loss: 1.0621 - accuracy: 0.5309 - val_loss: 1.0593 - val_accuracy: 0.5312\n",
      "Epoch 305/400\n",
      "10/10 [==============================] - 0s 18ms/step - loss: 1.0408 - accuracy: 0.5270 - val_loss: 1.0705 - val_accuracy: 0.5437\n",
      "Epoch 306/400\n",
      "10/10 [==============================] - 0s 18ms/step - loss: 1.0157 - accuracy: 0.5551 - val_loss: 1.1224 - val_accuracy: 0.4625\n",
      "Epoch 307/400\n",
      "10/10 [==============================] - 0s 15ms/step - loss: 1.0447 - accuracy: 0.5278 - val_loss: 1.0700 - val_accuracy: 0.5063\n",
      "Epoch 308/400\n",
      "10/10 [==============================] - 0s 13ms/step - loss: 1.0543 - accuracy: 0.5223 - val_loss: 1.1207 - val_accuracy: 0.4688\n",
      "Epoch 309/400\n",
      "10/10 [==============================] - 0s 14ms/step - loss: 1.0299 - accuracy: 0.5504 - val_loss: 1.0442 - val_accuracy: 0.5312\n",
      "Epoch 310/400\n",
      "10/10 [==============================] - 0s 13ms/step - loss: 1.0199 - accuracy: 0.5637 - val_loss: 1.1185 - val_accuracy: 0.5125\n",
      "Epoch 311/400\n",
      "10/10 [==============================] - 0s 13ms/step - loss: 1.0331 - accuracy: 0.5418 - val_loss: 1.1106 - val_accuracy: 0.5063\n",
      "Epoch 312/400\n",
      "10/10 [==============================] - 0s 14ms/step - loss: 1.0619 - accuracy: 0.5434 - val_loss: 1.0711 - val_accuracy: 0.5375\n",
      "Epoch 313/400\n",
      "10/10 [==============================] - 0s 13ms/step - loss: 1.0233 - accuracy: 0.5708 - val_loss: 1.0585 - val_accuracy: 0.5188\n",
      "Epoch 314/400\n",
      "10/10 [==============================] - 0s 19ms/step - loss: 1.0500 - accuracy: 0.5278 - val_loss: 1.0735 - val_accuracy: 0.5250\n",
      "Epoch 315/400\n",
      "10/10 [==============================] - 0s 22ms/step - loss: 1.0316 - accuracy: 0.5512 - val_loss: 1.0391 - val_accuracy: 0.5437\n",
      "Epoch 316/400\n",
      "10/10 [==============================] - 0s 19ms/step - loss: 1.0537 - accuracy: 0.5309 - val_loss: 1.0678 - val_accuracy: 0.4688\n",
      "Epoch 317/400\n",
      "10/10 [==============================] - 0s 21ms/step - loss: 1.0077 - accuracy: 0.5856 - val_loss: 1.2380 - val_accuracy: 0.3750\n",
      "Epoch 318/400\n",
      "10/10 [==============================] - 0s 19ms/step - loss: 1.0659 - accuracy: 0.5309 - val_loss: 1.0616 - val_accuracy: 0.5125\n",
      "Epoch 319/400\n",
      "10/10 [==============================] - 0s 21ms/step - loss: 1.0311 - accuracy: 0.5309 - val_loss: 1.0643 - val_accuracy: 0.5312\n",
      "Epoch 320/400\n",
      "10/10 [==============================] - 0s 25ms/step - loss: 1.0504 - accuracy: 0.5332 - val_loss: 1.0604 - val_accuracy: 0.5750\n",
      "Epoch 321/400\n",
      "10/10 [==============================] - 0s 27ms/step - loss: 1.0459 - accuracy: 0.5332 - val_loss: 1.1246 - val_accuracy: 0.5125\n",
      "Epoch 322/400\n",
      "10/10 [==============================] - 0s 26ms/step - loss: 1.0238 - accuracy: 0.5512 - val_loss: 1.0612 - val_accuracy: 0.5312\n",
      "Epoch 323/400\n",
      "10/10 [==============================] - 0s 22ms/step - loss: 1.0248 - accuracy: 0.5559 - val_loss: 1.0836 - val_accuracy: 0.5063\n",
      "Epoch 324/400\n",
      "10/10 [==============================] - 0s 27ms/step - loss: 1.0125 - accuracy: 0.5653 - val_loss: 1.1097 - val_accuracy: 0.5188\n",
      "Epoch 325/400\n",
      "10/10 [==============================] - 0s 20ms/step - loss: 1.0383 - accuracy: 0.5629 - val_loss: 1.0696 - val_accuracy: 0.5250\n",
      "Epoch 326/400\n",
      "10/10 [==============================] - 0s 20ms/step - loss: 1.0675 - accuracy: 0.5364 - val_loss: 1.0529 - val_accuracy: 0.5437\n",
      "Epoch 327/400\n",
      "10/10 [==============================] - 0s 18ms/step - loss: 1.0534 - accuracy: 0.5426 - val_loss: 1.0813 - val_accuracy: 0.5188\n",
      "Epoch 328/400\n",
      "10/10 [==============================] - 0s 13ms/step - loss: 1.0258 - accuracy: 0.5481 - val_loss: 1.0832 - val_accuracy: 0.5063\n",
      "Epoch 329/400\n",
      "10/10 [==============================] - 0s 16ms/step - loss: 1.0198 - accuracy: 0.5637 - val_loss: 1.1133 - val_accuracy: 0.5188\n",
      "Epoch 330/400\n",
      "10/10 [==============================] - 0s 20ms/step - loss: 1.0354 - accuracy: 0.5356 - val_loss: 1.2125 - val_accuracy: 0.4437\n",
      "Epoch 331/400\n",
      "10/10 [==============================] - 0s 18ms/step - loss: 1.0645 - accuracy: 0.5246 - val_loss: 1.0586 - val_accuracy: 0.5312\n",
      "Epoch 332/400\n",
      "10/10 [==============================] - 0s 17ms/step - loss: 1.0120 - accuracy: 0.5739 - val_loss: 1.0642 - val_accuracy: 0.5500\n",
      "Epoch 333/400\n",
      "10/10 [==============================] - 0s 15ms/step - loss: 1.0333 - accuracy: 0.5426 - val_loss: 1.0637 - val_accuracy: 0.5125\n",
      "Epoch 334/400\n",
      "10/10 [==============================] - 0s 16ms/step - loss: 1.0335 - accuracy: 0.5637 - val_loss: 1.0672 - val_accuracy: 0.5312\n",
      "Epoch 335/400\n",
      "10/10 [==============================] - 0s 14ms/step - loss: 1.0288 - accuracy: 0.5410 - val_loss: 1.0830 - val_accuracy: 0.5188\n",
      "Epoch 336/400\n",
      "10/10 [==============================] - 0s 15ms/step - loss: 1.0012 - accuracy: 0.5645 - val_loss: 1.1871 - val_accuracy: 0.4938\n",
      "Epoch 337/400\n",
      "10/10 [==============================] - 0s 14ms/step - loss: 1.0912 - accuracy: 0.5121 - val_loss: 1.0828 - val_accuracy: 0.5188\n",
      "Epoch 338/400\n",
      "10/10 [==============================] - 0s 14ms/step - loss: 1.0265 - accuracy: 0.5543 - val_loss: 1.0641 - val_accuracy: 0.5312\n",
      "Epoch 339/400\n",
      "10/10 [==============================] - 0s 13ms/step - loss: 1.0543 - accuracy: 0.5395 - val_loss: 1.0980 - val_accuracy: 0.5250\n",
      "Epoch 340/400\n",
      "10/10 [==============================] - 0s 19ms/step - loss: 1.0276 - accuracy: 0.5520 - val_loss: 1.4053 - val_accuracy: 0.4125\n",
      "Epoch 341/400\n",
      "10/10 [==============================] - 0s 10ms/step - loss: 1.0810 - accuracy: 0.5285 - val_loss: 1.0642 - val_accuracy: 0.5312\n",
      "Epoch 342/400\n",
      "10/10 [==============================] - 0s 13ms/step - loss: 1.0177 - accuracy: 0.5528 - val_loss: 1.0487 - val_accuracy: 0.5188\n"
     ]
    },
    {
     "name": "stdout",
     "output_type": "stream",
     "text": [
      "Epoch 343/400\n",
      "10/10 [==============================] - 0s 14ms/step - loss: 1.0204 - accuracy: 0.5590 - val_loss: 1.2050 - val_accuracy: 0.4500\n",
      "Epoch 344/400\n",
      "10/10 [==============================] - 0s 13ms/step - loss: 1.0363 - accuracy: 0.5262 - val_loss: 1.0516 - val_accuracy: 0.5312\n",
      "Epoch 345/400\n",
      "10/10 [==============================] - 0s 15ms/step - loss: 1.0245 - accuracy: 0.5442 - val_loss: 1.0723 - val_accuracy: 0.5063\n",
      "Epoch 346/400\n",
      "10/10 [==============================] - 0s 14ms/step - loss: 1.0124 - accuracy: 0.5582 - val_loss: 1.0649 - val_accuracy: 0.5312\n",
      "Epoch 347/400\n",
      "10/10 [==============================] - 0s 14ms/step - loss: 1.0040 - accuracy: 0.5700 - val_loss: 1.0593 - val_accuracy: 0.5125\n",
      "Epoch 348/400\n",
      "10/10 [==============================] - 0s 14ms/step - loss: 0.9908 - accuracy: 0.5747 - val_loss: 1.0437 - val_accuracy: 0.5375\n",
      "Epoch 349/400\n",
      "10/10 [==============================] - 0s 14ms/step - loss: 1.0477 - accuracy: 0.5567 - val_loss: 1.0813 - val_accuracy: 0.5312\n",
      "Epoch 350/400\n",
      "10/10 [==============================] - 0s 14ms/step - loss: 1.0309 - accuracy: 0.5551 - val_loss: 1.0502 - val_accuracy: 0.4938\n",
      "Epoch 351/400\n",
      "10/10 [==============================] - 0s 13ms/step - loss: 1.0439 - accuracy: 0.5536 - val_loss: 1.5584 - val_accuracy: 0.4187\n",
      "Epoch 352/400\n",
      "10/10 [==============================] - 0s 21ms/step - loss: 1.0837 - accuracy: 0.5379 - val_loss: 1.0595 - val_accuracy: 0.5500\n",
      "Epoch 353/400\n",
      "10/10 [==============================] - 0s 20ms/step - loss: 1.0155 - accuracy: 0.5614 - val_loss: 1.0613 - val_accuracy: 0.5125\n",
      "Epoch 354/400\n",
      "10/10 [==============================] - 0s 15ms/step - loss: 1.0385 - accuracy: 0.5442 - val_loss: 1.0510 - val_accuracy: 0.5250\n",
      "Epoch 355/400\n",
      "10/10 [==============================] - 0s 13ms/step - loss: 1.0294 - accuracy: 0.5379 - val_loss: 1.0658 - val_accuracy: 0.5375\n",
      "Epoch 356/400\n",
      "10/10 [==============================] - 0s 14ms/step - loss: 1.0555 - accuracy: 0.5457 - val_loss: 1.0603 - val_accuracy: 0.5125\n",
      "Epoch 357/400\n",
      "10/10 [==============================] - 0s 13ms/step - loss: 1.0238 - accuracy: 0.5575 - val_loss: 1.0934 - val_accuracy: 0.5125\n",
      "Epoch 358/400\n",
      "10/10 [==============================] - 0s 14ms/step - loss: 1.0137 - accuracy: 0.5395 - val_loss: 1.0361 - val_accuracy: 0.5500\n",
      "Epoch 359/400\n",
      "10/10 [==============================] - 0s 14ms/step - loss: 1.0802 - accuracy: 0.5192 - val_loss: 1.0914 - val_accuracy: 0.4812\n",
      "Epoch 360/400\n",
      "10/10 [==============================] - 0s 13ms/step - loss: 1.0433 - accuracy: 0.5395 - val_loss: 1.0613 - val_accuracy: 0.5312\n",
      "Epoch 361/400\n",
      "10/10 [==============================] - 0s 22ms/step - loss: 1.0047 - accuracy: 0.5622 - val_loss: 1.0492 - val_accuracy: 0.5250\n",
      "Epoch 362/400\n",
      "10/10 [==============================] - 0s 19ms/step - loss: 1.1048 - accuracy: 0.4949 - val_loss: 1.0732 - val_accuracy: 0.5188\n",
      "Epoch 363/400\n",
      "10/10 [==============================] - 0s 13ms/step - loss: 1.0108 - accuracy: 0.5582 - val_loss: 1.0704 - val_accuracy: 0.5375\n",
      "Epoch 364/400\n",
      "10/10 [==============================] - 0s 12ms/step - loss: 1.0660 - accuracy: 0.5051 - val_loss: 1.0486 - val_accuracy: 0.5250\n",
      "Epoch 365/400\n",
      "10/10 [==============================] - 0s 12ms/step - loss: 1.0454 - accuracy: 0.5536 - val_loss: 1.0479 - val_accuracy: 0.5125\n",
      "Epoch 366/400\n",
      "10/10 [==============================] - 0s 11ms/step - loss: 1.0138 - accuracy: 0.5590 - val_loss: 1.0819 - val_accuracy: 0.5250\n",
      "Epoch 367/400\n",
      "10/10 [==============================] - 0s 11ms/step - loss: 1.0376 - accuracy: 0.5434 - val_loss: 1.0582 - val_accuracy: 0.5188\n",
      "Epoch 368/400\n",
      "10/10 [==============================] - 0s 11ms/step - loss: 1.0340 - accuracy: 0.5379 - val_loss: 1.0778 - val_accuracy: 0.5250\n",
      "Epoch 369/400\n",
      "10/10 [==============================] - 0s 11ms/step - loss: 1.0304 - accuracy: 0.5426 - val_loss: 1.0705 - val_accuracy: 0.5188\n",
      "Epoch 370/400\n",
      "10/10 [==============================] - 0s 12ms/step - loss: 1.0328 - accuracy: 0.5309 - val_loss: 1.0447 - val_accuracy: 0.5188\n",
      "Epoch 371/400\n",
      "10/10 [==============================] - 0s 14ms/step - loss: 1.0106 - accuracy: 0.5489 - val_loss: 1.0417 - val_accuracy: 0.5250\n",
      "Epoch 372/400\n",
      "10/10 [==============================] - 0s 22ms/step - loss: 0.9869 - accuracy: 0.5973 - val_loss: 1.0702 - val_accuracy: 0.5188\n",
      "Epoch 373/400\n",
      "10/10 [==============================] - 0s 21ms/step - loss: 1.0251 - accuracy: 0.5457 - val_loss: 1.0636 - val_accuracy: 0.5000\n",
      "Epoch 374/400\n",
      "10/10 [==============================] - 0s 19ms/step - loss: 1.0036 - accuracy: 0.5637 - val_loss: 1.0525 - val_accuracy: 0.5375\n",
      "Epoch 375/400\n",
      "10/10 [==============================] - 0s 13ms/step - loss: 1.0177 - accuracy: 0.5473 - val_loss: 1.0316 - val_accuracy: 0.5500\n",
      "Epoch 376/400\n",
      "10/10 [==============================] - 0s 11ms/step - loss: 1.0742 - accuracy: 0.5309 - val_loss: 1.0312 - val_accuracy: 0.5750\n",
      "Epoch 377/400\n",
      "10/10 [==============================] - 0s 12ms/step - loss: 1.0182 - accuracy: 0.5520 - val_loss: 1.0988 - val_accuracy: 0.5375\n",
      "Epoch 378/400\n",
      "10/10 [==============================] - 0s 16ms/step - loss: 0.9982 - accuracy: 0.5754 - val_loss: 1.0486 - val_accuracy: 0.5125\n",
      "Epoch 379/400\n",
      "10/10 [==============================] - 0s 28ms/step - loss: 0.9984 - accuracy: 0.5786 - val_loss: 1.0333 - val_accuracy: 0.5437\n",
      "Epoch 380/400\n",
      "10/10 [==============================] - 0s 18ms/step - loss: 1.0344 - accuracy: 0.5450 - val_loss: 1.0442 - val_accuracy: 0.5125\n",
      "Epoch 381/400\n",
      "10/10 [==============================] - 0s 19ms/step - loss: 0.9979 - accuracy: 0.5715 - val_loss: 1.0480 - val_accuracy: 0.5375\n",
      "Epoch 382/400\n",
      "10/10 [==============================] - 0s 18ms/step - loss: 1.0270 - accuracy: 0.5426 - val_loss: 1.1202 - val_accuracy: 0.5312\n",
      "Epoch 383/400\n",
      "10/10 [==============================] - 0s 15ms/step - loss: 1.0278 - accuracy: 0.5481 - val_loss: 1.1474 - val_accuracy: 0.5000\n",
      "Epoch 384/400\n",
      "10/10 [==============================] - 0s 13ms/step - loss: 1.0049 - accuracy: 0.5668 - val_loss: 1.0410 - val_accuracy: 0.5500\n",
      "Epoch 385/400\n",
      "10/10 [==============================] - 0s 14ms/step - loss: 1.0360 - accuracy: 0.5598 - val_loss: 1.0527 - val_accuracy: 0.5125\n",
      "Epoch 386/400\n",
      "10/10 [==============================] - 0s 12ms/step - loss: 0.9971 - accuracy: 0.5614 - val_loss: 1.0729 - val_accuracy: 0.5375\n",
      "Epoch 387/400\n",
      "10/10 [==============================] - 0s 12ms/step - loss: 1.0286 - accuracy: 0.5481 - val_loss: 1.1954 - val_accuracy: 0.4688\n",
      "Epoch 388/400\n",
      "10/10 [==============================] - 0s 13ms/step - loss: 1.0684 - accuracy: 0.5301 - val_loss: 1.0419 - val_accuracy: 0.5000\n",
      "Epoch 389/400\n",
      "10/10 [==============================] - 0s 11ms/step - loss: 1.0309 - accuracy: 0.5426 - val_loss: 1.0439 - val_accuracy: 0.5063\n",
      "Epoch 390/400\n",
      "10/10 [==============================] - 0s 15ms/step - loss: 1.0103 - accuracy: 0.5676 - val_loss: 1.0454 - val_accuracy: 0.5250\n",
      "Epoch 391/400\n",
      "10/10 [==============================] - 0s 11ms/step - loss: 0.9848 - accuracy: 0.5841 - val_loss: 1.0748 - val_accuracy: 0.5312\n",
      "Epoch 392/400\n",
      "10/10 [==============================] - 0s 9ms/step - loss: 1.0453 - accuracy: 0.5379 - val_loss: 1.0544 - val_accuracy: 0.5375\n",
      "Epoch 393/400\n",
      "10/10 [==============================] - 0s 9ms/step - loss: 0.9881 - accuracy: 0.5653 - val_loss: 1.0715 - val_accuracy: 0.5125\n",
      "Epoch 394/400\n",
      "10/10 [==============================] - 0s 11ms/step - loss: 1.0819 - accuracy: 0.5074 - val_loss: 1.0585 - val_accuracy: 0.5000\n",
      "Epoch 395/400\n",
      "10/10 [==============================] - 0s 10ms/step - loss: 1.0049 - accuracy: 0.5645 - val_loss: 1.0405 - val_accuracy: 0.5312\n",
      "Epoch 396/400\n",
      "10/10 [==============================] - 0s 11ms/step - loss: 1.0302 - accuracy: 0.5536 - val_loss: 1.0563 - val_accuracy: 0.5312\n",
      "Epoch 397/400\n",
      "10/10 [==============================] - 0s 12ms/step - loss: 1.0241 - accuracy: 0.5536 - val_loss: 1.0870 - val_accuracy: 0.5125\n",
      "Epoch 398/400\n",
      "10/10 [==============================] - 0s 12ms/step - loss: 1.0234 - accuracy: 0.5551 - val_loss: 1.0821 - val_accuracy: 0.5312\n",
      "Epoch 399/400\n",
      "10/10 [==============================] - 0s 13ms/step - loss: 1.0248 - accuracy: 0.5442 - val_loss: 1.0944 - val_accuracy: 0.5125\n"
     ]
    },
    {
     "name": "stdout",
     "output_type": "stream",
     "text": [
      "Epoch 400/400\n",
      "10/10 [==============================] - 0s 13ms/step - loss: 1.0187 - accuracy: 0.5395 - val_loss: 1.0393 - val_accuracy: 0.5625\n"
     ]
    }
   ],
   "source": [
    "# After experimenting, I've found that using epochs of 400 and batch size of 128 gives me the best results.\n",
    "# I also using the EarlyStopping callback as explained earlier. \n",
    "history = NeuralNetwork.fit(X_train, Y_train, batch_size=128, epochs=400, validation_data=(X_val, Y_val), callbacks=[callback])"
   ]
  },
  {
   "cell_type": "markdown",
   "id": "7d2d0ac1",
   "metadata": {},
   "source": [
    "Please note that the evaluate function below is just a simple evaluation and wil be evaluating the model further in the next section of this project. "
   ]
  },
  {
   "cell_type": "code",
   "execution_count": 180,
   "id": "25a92db6",
   "metadata": {},
   "outputs": [
    {
     "name": "stdout",
     "output_type": "stream",
     "text": [
      "5/5 [==============================] - 0s 6ms/step - loss: 1.0393 - accuracy: 0.5625\n"
     ]
    },
    {
     "data": {
      "text/plain": [
       "[1.0392595529556274, 0.5625]"
      ]
     },
     "execution_count": 180,
     "metadata": {},
     "output_type": "execute_result"
    }
   ],
   "source": [
    "NeuralNetwork.evaluate(X_val, Y_val)"
   ]
  },
  {
   "cell_type": "markdown",
   "id": "3b68a874",
   "metadata": {},
   "source": [
    "### Model Evaluation\n",
    "\n",
    "Evaluating the model accuracy is an essential part of the process in creating machine learning models to describe how well the model is performing in its predictions. Evaluation metrics change according to the problem type. Here, we'll briefly learn how to check the accuracy of the regression model.\n",
    "\n",
    "The linear model (regression) can be a typical example of this type of problem, and the main characteristic of the regression problem is that the targets of a dataset contain the real numbers only. The errors represent how much the model is making mistakes in its prediction. The basic concept of accuracy evaluation is to compare the original target with the predicted one according to certain metrics.\n",
    "\n",
    "\n",
    "**Regression model evaluation metrics**\n",
    "\n",
    "The MAE, RMSE, and R-Squared metrics are mainly used to evaluate the prediction error rates and model performance in regression analysis.\n",
    "\n",
    "**MAE (Mean absolute error)** represents the difference between the original and predicted values extracted by averaged the absolute difference over the data set.\n",
    "\n",
    "**RMSE (Root Mean Squared Error)** is the error rate by the square root of MSE.\n",
    "\n",
    "**R-squared (Coefficient of determination)** represents the coefficient of how well the values fit compared to the original values. The value from 0 to 1 interpreted as percentages. The higher the value is, the better the model is.\n",
    "\n",
    "The above metrics can be expressed as following:\n",
    "<img src = \"https://4.bp.blogspot.com/-wG7IbjTfE6k/XGUvqm7TCVI/AAAAAAAAAZU/vpH1kuKTIooKTcVlnm1EVRCXLVZM9cPNgCLcBGAs/s1600/formula-MAE-MSE-RMSE-RSquared.JPG\">\n",
    "\n",
    "Please find more information on how to implement them from this link: https://scikit-learn.org/stable/modules/classes.html#regression-metrics\n",
    "\n",
    "Find more about feature importances from here: https://machinelearningmastery.com/calculate-feature-importance-with-python/\n",
    "\n",
    "**Classification model evaluation metrics**\n",
    "\n",
    "<img src=\"https://www.researchgate.net/publication/336402347/figure/fig3/AS:812472659349505@1570719985505/Calculation-of-Precision-Recall-and-Accuracy-in-the-confusion-matrix.ppm\">"
   ]
  },
  {
   "cell_type": "markdown",
   "id": "0cc9ec55",
   "metadata": {},
   "source": [
    "*TODO*\n",
    "\n",
    "**For Regression models**\n",
    "<li>Use three metrics: R-squared, RMSE, and MAE, to evaluate model prediction performance</li>\n",
    "<li>Compare these 3 metrics for the two models and analyze the performance</li>\n",
    "<li>Calculate the feature importance scores for the top features that help predicting wine quality and visualize them</li>\n",
    "\n",
    "**For Classification model**\n",
    "<li> Plot training loss and validation loss </li>\n",
    "<li> Plot training accuracy and validation accuracy </li>\n",
    "<li> Evaluate the classsification model using Precision, Recall and Accuracy metrics </li>"
   ]
  },
  {
   "cell_type": "markdown",
   "id": "e78c3a8a",
   "metadata": {},
   "source": [
    "#### Use three metrics: R-squared, RMSE, and MAE, to evaluate model prediction performance and compare these 3 metrics for the two models and analyze the performance"
   ]
  },
  {
   "cell_type": "markdown",
   "id": "2d954e27",
   "metadata": {},
   "source": [
    "What I've done below is that I've used the three metrics to evaluate model prediction performance for both Linear Regression model as well as the Random Forest Regressor. Results are compared below for the training, test, and validation sets, respectively: "
   ]
  },
  {
   "cell_type": "code",
   "execution_count": 181,
   "id": "dbb8e9fb",
   "metadata": {},
   "outputs": [
    {
     "name": "stdout",
     "output_type": "stream",
     "text": [
      "LinearRegression\n",
      "   MAE: 0.49501877407943784\n",
      "   RMSE: 0.6486451802018164\n",
      "   R2: 0.35329638037798583\n",
      "RandomForestRegressor\n",
      "   MAE: 0.15617670054730254\n",
      "   RMSE: 0.22319434446835412\n",
      "   R2: 0.9234302423454287\n"
     ]
    }
   ],
   "source": [
    "#Importing our dependecies from sklearn\n",
    "from sklearn.metrics import mean_absolute_error\n",
    "from sklearn.metrics import mean_squared_error\n",
    "from math import sqrt\n",
    "from sklearn.metrics import r2_score\n",
    "from sklearn.linear_model import LinearRegression\n",
    "from sklearn.neighbors import KNeighborsRegressor\n",
    "\n",
    "# Evaluating the models against the training set\n",
    "models = [LinReg, regressor]\n",
    "for model in models:\n",
    "    model.fit(X_train, Y_train)\n",
    "    predictions = model.predict(X_train)\n",
    "    print(type(model).__name__)\n",
    "    print(\"   MAE:\", mean_absolute_error(Y_train, predictions))\n",
    "    print(\"   RMSE:\", sqrt(mean_squared_error(Y_train, predictions)))\n",
    "    print(\"   R2:\", r2_score(Y_train, predictions))"
   ]
  },
  {
   "cell_type": "code",
   "execution_count": 182,
   "id": "6b21f1e6",
   "metadata": {
    "scrolled": true
   },
   "outputs": [
    {
     "name": "stdout",
     "output_type": "stream",
     "text": [
      "LinearRegression\n",
      "   MAE: 0.5081091237374019\n",
      "   RMSE: 0.6327041271363845\n",
      "   R2: 0.39346285985543317\n",
      "RandomForestRegressor\n",
      "   MAE: 0.4395625000000001\n",
      "   RMSE: 0.5720877336562986\n",
      "   R2: 0.5041145833333331\n"
     ]
    }
   ],
   "source": [
    "# Evaluation the models against test set\n",
    "for model in models:\n",
    "    predictions = model.predict(X_test)\n",
    "    print(type(model).__name__)\n",
    "    print(\"   MAE:\", mean_absolute_error(Y_test, predictions))\n",
    "    print(\"   RMSE:\", sqrt(mean_squared_error(Y_test, predictions)))\n",
    "    print(\"   R2:\", r2_score(Y_test, predictions))"
   ]
  },
  {
   "cell_type": "code",
   "execution_count": 188,
   "id": "015e05d2",
   "metadata": {},
   "outputs": [
    {
     "name": "stdout",
     "output_type": "stream",
     "text": [
      "LinearRegression\n",
      "   MAE: 0.49989884804295237\n",
      "   RMSE: 0.6504180512631158\n",
      "   R2: 0.3456638740820449\n",
      "RandomForestRegressor\n",
      "   MAE: 0.42768750000000005\n",
      "   RMSE: 0.5918514382849804\n",
      "   R2: 0.4581973294664974\n"
     ]
    }
   ],
   "source": [
    "# Evaluation the models against validation set\n",
    "for model in models:\n",
    "    predictions = model.predict(X_val)\n",
    "    print(type(model).__name__)\n",
    "    print(\"   MAE:\", mean_absolute_error(Y_val, predictions))\n",
    "    print(\"   RMSE:\", sqrt(mean_squared_error(Y_val, predictions)))\n",
    "    print(\"   R2:\", r2_score(Y_val, predictions))"
   ]
  },
  {
   "cell_type": "markdown",
   "id": "f5ca9968",
   "metadata": {},
   "source": [
    "#### Calculate the feature importance scores for the top features that help predicting wine quality and visualize them\n"
   ]
  },
  {
   "cell_type": "markdown",
   "id": "35ea1d9c",
   "metadata": {},
   "source": [
    "There are many ways to evaluate/calculate the feature importance score in order to help predict the wine quality. \n",
    "We can use XGBoost classifier, GradientBoosting Classifier, and many more such as the Random Forest Classifier. \n",
    "I will be using GradientBoosting Classifier to calculate the feature importance and predict the wine quality. "
   ]
  },
  {
   "cell_type": "code",
   "execution_count": 183,
   "id": "9ce4a2e6",
   "metadata": {
    "scrolled": false
   },
   "outputs": [],
   "source": [
    "from sklearn.ensemble import GradientBoostingClassifier\n",
    "model = GradientBoostingClassifier(random_state=1)\n",
    "model.fit(X_train, Y_train)\n",
    "y_pred4 = model.predict(X_test)"
   ]
  },
  {
   "cell_type": "markdown",
   "id": "94d3b185",
   "metadata": {},
   "source": [
    "As you can see from below, I've plotted and calculated the feature importance. We can see from the graph that the most important feature is the alcohol and the least important feature as per the plot is the citric acid. "
   ]
  },
  {
   "cell_type": "code",
   "execution_count": 189,
   "id": "1f797ae0",
   "metadata": {
    "scrolled": false
   },
   "outputs": [
    {
     "data": {
      "text/plain": [
       "<AxesSubplot:>"
      ]
     },
     "execution_count": 189,
     "metadata": {},
     "output_type": "execute_result"
    },
    {
     "data": {
      "image/png": "[encoded data removed]",
      "text/plain": [
       "<Figure size 1080x1080 with 1 Axes>"
      ]
     },
     "metadata": {
      "needs_background": "light"
     },
     "output_type": "display_data"
    }
   ],
   "source": [
    "feature_importances = pd.Series(model.feature_importances_, index=X_train.columns)\n",
    "feature_importances.nlargest(25).plot(kind='barh',figsize=(15,15))"
   ]
  },
  {
   "cell_type": "markdown",
   "id": "15d653c7",
   "metadata": {},
   "source": [
    "#### Plot training loss and validation loss"
   ]
  },
  {
   "cell_type": "markdown",
   "id": "8ffadda0",
   "metadata": {},
   "source": [
    "#### Plot training accuracy and validation accuracy"
   ]
  },
  {
   "cell_type": "code",
   "execution_count": 172,
   "id": "6893e07d",
   "metadata": {
    "scrolled": true
   },
   "outputs": [
    {
     "data": {
      "image/png": "[encoded data removed]",
      "text/plain": [
       "<Figure size 432x288 with 1 Axes>"
      ]
     },
     "metadata": {
      "needs_background": "light"
     },
     "output_type": "display_data"
    }
   ],
   "source": [
    "import keras\n",
    "from matplotlib import pyplot as plt\n",
    "\n",
    "plt.plot(history.history['accuracy'])\n",
    "plt.plot(history.history['val_accuracy'])\n",
    "plt.title('Model accuracy')\n",
    "plt.ylabel('Accuracy')\n",
    "plt.xlabel('epoch')\n",
    "plt.legend(['Train Accuracy', 'Val Accuracy'], loc='upper left')\n",
    "plt.show()"
   ]
  },
  {
   "cell_type": "code",
   "execution_count": 185,
   "id": "0d96dc56",
   "metadata": {},
   "outputs": [
    {
     "data": {
      "image/png": "[encoded data removed]",
      "text/plain": [
       "<Figure size 432x288 with 1 Axes>"
      ]
     },
     "metadata": {
      "needs_background": "light"
     },
     "output_type": "display_data"
    }
   ],
   "source": [
    "plt.plot(history.history['loss'])\n",
    "plt.plot(history.history['val_loss'])\n",
    "plt.title('Model Loss')\n",
    "plt.ylabel('Loss')\n",
    "plt.xlabel('epoch')\n",
    "plt.legend(['train Loss', 'Val Loss'], loc='upper left')\n",
    "plt.show()"
   ]
  },
  {
   "cell_type": "markdown",
   "id": "cfd1f18d",
   "metadata": {},
   "source": [
    "#### Evaluate the classsification model using Precision, Recall and Accuracy metrics"
   ]
  },
  {
   "cell_type": "markdown",
   "id": "b734edbf",
   "metadata": {},
   "source": [
    "Way 1:"
   ]
  },
  {
   "cell_type": "code",
   "execution_count": 202,
   "id": "ef6e825d",
   "metadata": {},
   "outputs": [],
   "source": [
    "def EvaluateClassificationModel(model, X, Y):\n",
    "    \n",
    "  \n",
    "    \n",
    "    # Accuracy Score\n",
    "    acc_score = (accuracy_score(Y_test, y_pred4))*100\n",
    "    print(\"Accuracy Score:\", acc_score)\n",
    "    \n",
    "    # Classification Report\n",
    "    class_report = classification_report(Y_test, y_pred4)\n",
    "    print(\"\\nClassification Report:\\n\", class_report)\n",
    "    \n"
   ]
  },
  {
   "cell_type": "code",
   "execution_count": 203,
   "id": "0132e9dc",
   "metadata": {},
   "outputs": [
    {
     "name": "stdout",
     "output_type": "stream",
     "text": [
      "Accuracy Score: 60.0\n",
      "\n",
      "Classification Report:\n",
      "               precision    recall  f1-score   support\n",
      "\n",
      "           3       0.00      0.00      0.00         1\n",
      "           4       0.00      0.00      0.00         4\n",
      "           5       0.67      0.73      0.70        64\n",
      "           6       0.56      0.61      0.58        66\n",
      "           7       0.64      0.39      0.49        23\n",
      "           8       0.00      0.00      0.00         2\n",
      "\n",
      "    accuracy                           0.60       160\n",
      "   macro avg       0.31      0.29      0.29       160\n",
      "weighted avg       0.59      0.60      0.59       160\n",
      "\n"
     ]
    }
   ],
   "source": [
    "EvaluateClassificationModel(NeuralNetwork, X_train, Y_train)"
   ]
  },
  {
   "cell_type": "markdown",
   "id": "5a2e99ca",
   "metadata": {},
   "source": [
    "Way 2:"
   ]
  },
  {
   "cell_type": "code",
   "execution_count": 213,
   "id": "b2a2243b",
   "metadata": {},
   "outputs": [
    {
     "name": "stdout",
     "output_type": "stream",
     "text": [
      "Accuracy: 60.0 / Precision: 60.0 / Recall: 60.0 \n"
     ]
    }
   ],
   "source": [
    "from sklearn.metrics import accuracy_score, precision_score, recall_score\n",
    "accuracy = round(accuracy_score(Y_test, y_pred4), 3)\n",
    "precision = round(precision_score(Y_test, y_pred4, average='micro'), 3)\n",
    "recall = round(recall_score(Y_test, y_pred4, average='micro'), 3)\n",
    "print('Accuracy: {} / Precision: {} / Recall: {} '.format(accuracy*100, precision*100, recall*100))"
   ]
  },
  {
   "cell_type": "markdown",
   "id": "cc93c002",
   "metadata": {},
   "source": [
    "### Conclusion\n",
    "\n",
    "*TODO*"
   ]
  },
  {
   "cell_type": "markdown",
   "id": "bace3270",
   "metadata": {},
   "source": [
    "As shown above, we can see tht the accuracy and other metrics output used to evaluate the NN model used are better than the output of the metrics used to evaluate regression models. Hence, I can conclude that Neural Network did better in comparison to the regression models explored earlier in this notebook. I was able to find out the feature importance and conclude that alcohol is the most important feature as shown in my plot earlier. In addition, I explored the Accuracy and loss models for train and validation. We can see that, for Model Loss, as the epoch increase, the loss decreases and vise versa for the accuracy model. Note that this is what we desire and aim for!  "
   ]
  },
  {
   "cell_type": "markdown",
   "id": "9397b403",
   "metadata": {},
   "source": [
    "In conclusion, I strongly believe that this project was very fascinating and interesting. I was able to predict the red wine quality using different techniques. This is a very good example of how one can use machine learning and deep learning concepts such as NN to find solutions and answers to real world problems. Introduction to Machine Learning and Pattern Recognition is honestly by far my favorite course I've taken so far as It really interested me and challenged me to find the best approach and keep diging in. The way we are taugh this course by professor Archit is very valuable as he helped us understand various concepts, from EDA to very advanced models such as Neural Network Etc. Hence, I'd like to extend my many thanks and appreciation to professor Archit Garg and his respected TAs for all of their help throughout this term. I will definetly apply all of the materials learned in this course in the future as I strongly trust that it is an asset!\n"
   ]
  },
  {
   "cell_type": "markdown",
   "id": "3986626d",
   "metadata": {},
   "source": [
    "### The End - Thanks!"
   ]
  }
 ],
 "metadata": {
  "kernelspec": {
   "display_name": "Python 3 (ipykernel)",
   "language": "python",
   "name": "python3"
  },
  "language_info": {
   "codemirror_mode": {
    "name": "ipython",
    "version": 3
   },
   "file_extension": ".py",
   "mimetype": "text/x-python",
   "name": "python",
   "nbconvert_exporter": "python",
   "pygments_lexer": "ipython3",
   "version": "3.9.12"
  }
 },
 "nbformat": 4,
 "nbformat_minor": 5
}
